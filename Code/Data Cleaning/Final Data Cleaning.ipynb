{
 "cells": [
  {
   "cell_type": "code",
   "execution_count": 1,
   "id": "254e2e3c",
   "metadata": {},
   "outputs": [],
   "source": [
    "import pandas as pd\n",
    "import numpy as np\n",
    "from tkinter import filedialog as fd"
   ]
  },
  {
   "cell_type": "code",
   "execution_count": 2,
   "id": "d189284f",
   "metadata": {},
   "outputs": [],
   "source": [
    "# Import the raw data\n",
    "# is_select = input('Would you like to search for a file (Y\\\\N): ')\n",
    "# if(is_select == 'Y'):\n",
    "#     filename = fd.askopenfilename()\n",
    "#     raw_patron_df = pd.read_excel(filename)\n",
    "# else:\n",
    "#     raw_patron_df = pd.read_excel('C:\\\\Users\\\\Ben\\\\Desktop\\\\HRP\\\\New Project\\\\Data\\\\Raw_Data\\\\Patron_Checkouts.xlsx')\n",
    "\n",
    "raw_patron_df = pd.read_excel('C:\\\\Users\\\\Ben\\\\Desktop\\\\HRP\\\\New Project\\\\Data\\\\Raw_Data\\\\Patron_Checkouts.xlsx')"
   ]
  },
  {
   "cell_type": "code",
   "execution_count": 3,
   "id": "10b73f22",
   "metadata": {},
   "outputs": [
    {
     "data": {
      "text/html": [
       "<div>\n",
       "<style scoped>\n",
       "    .dataframe tbody tr th:only-of-type {\n",
       "        vertical-align: middle;\n",
       "    }\n",
       "\n",
       "    .dataframe tbody tr th {\n",
       "        vertical-align: top;\n",
       "    }\n",
       "\n",
       "    .dataframe thead th {\n",
       "        text-align: right;\n",
       "    }\n",
       "</style>\n",
       "<table border=\"1\" class=\"dataframe\">\n",
       "  <thead>\n",
       "    <tr style=\"text-align: right;\">\n",
       "      <th></th>\n",
       "      <th>Patron Barcode</th>\n",
       "      <th>Title</th>\n",
       "      <th>Author's Name</th>\n",
       "      <th>Holdings Barcode</th>\n",
       "      <th>Date of Action</th>\n",
       "      <th>Unnamed: 5</th>\n",
       "      <th>Unnamed: 6</th>\n",
       "    </tr>\n",
       "  </thead>\n",
       "  <tbody>\n",
       "    <tr>\n",
       "      <th>27315</th>\n",
       "      <td>13148</td>\n",
       "      <td>COMPUTER 4</td>\n",
       "      <td>NaN</td>\n",
       "      <td>510004</td>\n",
       "      <td>11/16/2021 04:11:29PM</td>\n",
       "      <td>NaN</td>\n",
       "      <td>NaN</td>\n",
       "    </tr>\n",
       "    <tr>\n",
       "      <th>61977</th>\n",
       "      <td>14012</td>\n",
       "      <td>The Hunger Games: Catching Fire</td>\n",
       "      <td>NaN</td>\n",
       "      <td>802511</td>\n",
       "      <td>07/23/2022 01:22:05PM</td>\n",
       "      <td>NaN</td>\n",
       "      <td>NaN</td>\n",
       "    </tr>\n",
       "    <tr>\n",
       "      <th>74851</th>\n",
       "      <td>17366</td>\n",
       "      <td>Moo who?</td>\n",
       "      <td>Palatini, Margie</td>\n",
       "      <td>128007</td>\n",
       "      <td>07/02/2021 01:58:53PM</td>\n",
       "      <td>NaN</td>\n",
       "      <td>NaN</td>\n",
       "    </tr>\n",
       "    <tr>\n",
       "      <th>3885</th>\n",
       "      <td>11385</td>\n",
       "      <td>The immortal life of Henrietta Lacks</td>\n",
       "      <td>Skloot, Rebecca,</td>\n",
       "      <td>90000615</td>\n",
       "      <td>02/09/2021 02:47:22PM</td>\n",
       "      <td>NaN</td>\n",
       "      <td>NaN</td>\n",
       "    </tr>\n",
       "    <tr>\n",
       "      <th>41932</th>\n",
       "      <td>13422</td>\n",
       "      <td>Tom and Jerry: the movie</td>\n",
       "      <td>NaN</td>\n",
       "      <td>801708</td>\n",
       "      <td>08/23/2021 01:58:44PM</td>\n",
       "      <td>NaN</td>\n",
       "      <td>NaN</td>\n",
       "    </tr>\n",
       "  </tbody>\n",
       "</table>\n",
       "</div>"
      ],
      "text/plain": [
       "       Patron Barcode                                 Title     Author's Name  \\\n",
       "27315           13148                            COMPUTER 4               NaN   \n",
       "61977           14012       The Hunger Games: Catching Fire               NaN   \n",
       "74851           17366                              Moo who?  Palatini, Margie   \n",
       "3885            11385  The immortal life of Henrietta Lacks  Skloot, Rebecca,   \n",
       "41932           13422              Tom and Jerry: the movie               NaN   \n",
       "\n",
       "      Holdings Barcode         Date of Action Unnamed: 5 Unnamed: 6  \n",
       "27315           510004  11/16/2021 04:11:29PM        NaN        NaN  \n",
       "61977           802511  07/23/2022 01:22:05PM        NaN        NaN  \n",
       "74851           128007  07/02/2021 01:58:53PM        NaN        NaN  \n",
       "3885          90000615  02/09/2021 02:47:22PM        NaN        NaN  \n",
       "41932           801708  08/23/2021 01:58:44PM        NaN        NaN  "
      ]
     },
     "execution_count": 3,
     "metadata": {},
     "output_type": "execute_result"
    }
   ],
   "source": [
    "raw_patron_df.sample(5)"
   ]
  },
  {
   "cell_type": "code",
   "execution_count": 4,
   "id": "4466a33e",
   "metadata": {},
   "outputs": [
    {
     "data": {
      "text/plain": [
       "(90878, 7)"
      ]
     },
     "execution_count": 4,
     "metadata": {},
     "output_type": "execute_result"
    }
   ],
   "source": [
    "raw_patron_df.shape"
   ]
  },
  {
   "cell_type": "markdown",
   "id": "f15224ef",
   "metadata": {},
   "source": [
    "# Code"
   ]
  },
  {
   "cell_type": "markdown",
   "id": "f4b3ab8c",
   "metadata": {},
   "source": [
    "## Adjustments"
   ]
  },
  {
   "cell_type": "code",
   "execution_count": 5,
   "id": "dd394a4f",
   "metadata": {},
   "outputs": [],
   "source": [
    "# Set to true to keep the date column\n",
    "keep_date = False\n",
    "# Set to true to keep ILL entries\n",
    "keep_ILL = False\n",
    "# Set to true to remove all items with na values in the first and last name column\n",
    "keep_na_authors = False\n",
    "# Set to true to keep duplicate entries in the patron data\n",
    "keep_duplicates = True\n",
    "\n",
    "# Set to true to replace the title and author column in the patron data with the index from inventory\n",
    "index_patron = True"
   ]
  },
  {
   "cell_type": "markdown",
   "id": "afc8ce14",
   "metadata": {},
   "source": [
    "## Clean Patron Data"
   ]
  },
  {
   "cell_type": "code",
   "execution_count": 6,
   "id": "cb07815b",
   "metadata": {},
   "outputs": [
    {
     "data": {
      "text/plain": [
       "(90833, 7)"
      ]
     },
     "execution_count": 6,
     "metadata": {},
     "output_type": "execute_result"
    }
   ],
   "source": [
    "# Drop shifted columns\n",
    "patron_df = raw_patron_df[raw_patron_df['Unnamed: 5'].isnull()]\n",
    "patron_df = patron_df[patron_df['Unnamed: 6'].isnull()]\n",
    "\n",
    "patron_df.shape"
   ]
  },
  {
   "cell_type": "code",
   "execution_count": 7,
   "id": "9a31c073",
   "metadata": {},
   "outputs": [],
   "source": [
    "# Rename Patron Barcode\n",
    "patron_df = patron_df.rename(columns = {'Patron Barcode': 'Patron_ID'})"
   ]
  },
  {
   "cell_type": "code",
   "execution_count": 8,
   "id": "3597bde2",
   "metadata": {},
   "outputs": [],
   "source": [
    "# Drop unnecessary columns\n",
    "patron_df = patron_df.drop(['Holdings Barcode', 'Unnamed: 5', 'Unnamed: 6'], axis = 1)"
   ]
  },
  {
   "cell_type": "code",
   "execution_count": 9,
   "id": "84ede238",
   "metadata": {},
   "outputs": [],
   "source": [
    "# Drop the date\n",
    "if(not keep_date):\n",
    "    patron_df = patron_df.drop('Date of Action', axis = 1)"
   ]
  },
  {
   "cell_type": "code",
   "execution_count": 10,
   "id": "b61f29f6",
   "metadata": {},
   "outputs": [
    {
     "name": "stdout",
     "output_type": "stream",
     "text": [
      "(89305, 3)\n"
     ]
    }
   ],
   "source": [
    "# Find all ILL entries\n",
    "patron_df['Is_ILL'] = patron_df['Title'].str.contains('ILL -', na = False)\n",
    "if(not keep_ILL):\n",
    "    # Remove all ILL entries\n",
    "    patron_df = patron_df[patron_df['Is_ILL'] == False]\n",
    "    patron_df = patron_df.drop('Is_ILL', axis = 1)\n",
    "    \n",
    "    print(patron_df.shape)"
   ]
  },
  {
   "cell_type": "code",
   "execution_count": 11,
   "id": "242f0bd3",
   "metadata": {},
   "outputs": [],
   "source": [
    "# Split mutiple authors on ;\n",
    "patron_df[['1', '2', '3', '4', '5', '6']] = patron_df['Author\\'s Name'].str.split(';', expand = True)\n",
    "patron_df = patron_df.drop(['Author\\'s Name', '2', '3', '4', '5', '6'], axis = 1)\n",
    "\n",
    "# Split authors first name and last name on ,\n",
    "patron_df[['Author_Last', 'Author_First', '1', '2', '3']] = patron_df['1'].str.split(',', expand = True)\n",
    "patron_df = patron_df.drop(['1', '2', '3'], axis = 1)"
   ]
  },
  {
   "cell_type": "code",
   "execution_count": 12,
   "id": "579f36c4",
   "metadata": {},
   "outputs": [
    {
     "name": "stdout",
     "output_type": "stream",
     "text": [
      "(75487, 4)\n"
     ]
    }
   ],
   "source": [
    "# Drop na authors\n",
    "if(not keep_na_authors):\n",
    "    # Drop all entries where both author last and first are na\n",
    "    patron_df = patron_df.dropna(subset = ['Author_Last', 'Author_First'], how = 'all')\n",
    "    \n",
    "    print(patron_df.shape)"
   ]
  },
  {
   "cell_type": "code",
   "execution_count": 13,
   "id": "be770b93",
   "metadata": {},
   "outputs": [
    {
     "data": {
      "text/plain": [
       "(75481, 4)"
      ]
     },
     "execution_count": 13,
     "metadata": {},
     "output_type": "execute_result"
    }
   ],
   "source": [
    "# Drop na titles or patrons\n",
    "patron_df = patron_df.dropna(subset = ['Patron_ID', 'Title'])\n",
    "\n",
    "patron_df.shape"
   ]
  },
  {
   "cell_type": "code",
   "execution_count": 14,
   "id": "bce77bfe",
   "metadata": {},
   "outputs": [],
   "source": [
    "# Remove punctation and convert to lowercase\n",
    "cols = ['Title', 'Author_Last', 'Author_First']\n",
    "for col in cols:\n",
    "    patron_df[col] = patron_df[col].str.replace('[^\\w\\s]','', regex = True)\n",
    "    patron_df[col] = patron_df[col].str.lower()"
   ]
  },
  {
   "cell_type": "code",
   "execution_count": 15,
   "id": "fafe8651",
   "metadata": {},
   "outputs": [],
   "source": [
    "if(not keep_duplicates):\n",
    "    patron_df = patron_df.drop_duplicates()\n",
    "    \n",
    "    print(patron_df.shape)"
   ]
  },
  {
   "cell_type": "markdown",
   "id": "dba644f6",
   "metadata": {},
   "source": [
    "## Create an Inventory"
   ]
  },
  {
   "cell_type": "code",
   "execution_count": 16,
   "id": "2e5a5902",
   "metadata": {
    "scrolled": true
   },
   "outputs": [],
   "source": [
    "# Select title and authors name to create inventory\n",
    "inventory_df = patron_df[['Title', 'Author_First', 'Author_Last']].copy()"
   ]
  },
  {
   "cell_type": "code",
   "execution_count": 17,
   "id": "69588a25",
   "metadata": {},
   "outputs": [
    {
     "data": {
      "text/html": [
       "<div>\n",
       "<style scoped>\n",
       "    .dataframe tbody tr th:only-of-type {\n",
       "        vertical-align: middle;\n",
       "    }\n",
       "\n",
       "    .dataframe tbody tr th {\n",
       "        vertical-align: top;\n",
       "    }\n",
       "\n",
       "    .dataframe thead th {\n",
       "        text-align: right;\n",
       "    }\n",
       "</style>\n",
       "<table border=\"1\" class=\"dataframe\">\n",
       "  <thead>\n",
       "    <tr style=\"text-align: right;\">\n",
       "      <th></th>\n",
       "      <th>Title</th>\n",
       "      <th>Author_First</th>\n",
       "      <th>Author_Last</th>\n",
       "      <th>Num_Checkouts</th>\n",
       "    </tr>\n",
       "  </thead>\n",
       "  <tbody>\n",
       "    <tr>\n",
       "      <th>0</th>\n",
       "      <td>sonic the hedgehog</td>\n",
       "      <td>ian</td>\n",
       "      <td>flynn</td>\n",
       "      <td>235</td>\n",
       "    </tr>\n",
       "    <tr>\n",
       "      <th>1</th>\n",
       "      <td>babysitters little sister</td>\n",
       "      <td>katy</td>\n",
       "      <td>farina</td>\n",
       "      <td>163</td>\n",
       "    </tr>\n",
       "    <tr>\n",
       "      <th>2</th>\n",
       "      <td>if you give a pig a pancake</td>\n",
       "      <td>laura joffe</td>\n",
       "      <td>numeroff</td>\n",
       "      <td>119</td>\n",
       "    </tr>\n",
       "    <tr>\n",
       "      <th>3</th>\n",
       "      <td>beastars</td>\n",
       "      <td>paru</td>\n",
       "      <td>itagaki</td>\n",
       "      <td>114</td>\n",
       "    </tr>\n",
       "    <tr>\n",
       "      <th>4</th>\n",
       "      <td>if you give a dog a donut</td>\n",
       "      <td>laura joffe</td>\n",
       "      <td>numeroff</td>\n",
       "      <td>112</td>\n",
       "    </tr>\n",
       "    <tr>\n",
       "      <th>...</th>\n",
       "      <td>...</td>\n",
       "      <td>...</td>\n",
       "      <td>...</td>\n",
       "      <td>...</td>\n",
       "    </tr>\n",
       "    <tr>\n",
       "      <th>11433</th>\n",
       "      <td>watch that witch</td>\n",
       "      <td>nancy e</td>\n",
       "      <td>krulik</td>\n",
       "      <td>1</td>\n",
       "    </tr>\n",
       "    <tr>\n",
       "      <th>11434</th>\n",
       "      <td>mastering the art of french cooking</td>\n",
       "      <td>julia</td>\n",
       "      <td>child</td>\n",
       "      <td>1</td>\n",
       "    </tr>\n",
       "    <tr>\n",
       "      <th>11435</th>\n",
       "      <td>water</td>\n",
       "      <td>jason</td>\n",
       "      <td>cooper</td>\n",
       "      <td>1</td>\n",
       "    </tr>\n",
       "    <tr>\n",
       "      <th>11436</th>\n",
       "      <td>stop whining start living</td>\n",
       "      <td>laura</td>\n",
       "      <td>schlessinger</td>\n",
       "      <td>1</td>\n",
       "    </tr>\n",
       "    <tr>\n",
       "      <th>11437</th>\n",
       "      <td>north or be eaten</td>\n",
       "      <td>andrew</td>\n",
       "      <td>peterson</td>\n",
       "      <td>1</td>\n",
       "    </tr>\n",
       "  </tbody>\n",
       "</table>\n",
       "<p>11438 rows × 4 columns</p>\n",
       "</div>"
      ],
      "text/plain": [
       "                                      Title  Author_First   Author_Last  \\\n",
       "0                        sonic the hedgehog           ian         flynn   \n",
       "1                 babysitters little sister          katy        farina   \n",
       "2               if you give a pig a pancake   laura joffe      numeroff   \n",
       "3                                  beastars          paru       itagaki   \n",
       "4                 if you give a dog a donut   laura joffe      numeroff   \n",
       "...                                     ...           ...           ...   \n",
       "11433                      watch that witch       nancy e        krulik   \n",
       "11434  mastering the art of french cooking          julia         child   \n",
       "11435                                 water         jason        cooper   \n",
       "11436             stop whining start living         laura  schlessinger   \n",
       "11437                     north or be eaten        andrew      peterson   \n",
       "\n",
       "       Num_Checkouts  \n",
       "0                235  \n",
       "1                163  \n",
       "2                119  \n",
       "3                114  \n",
       "4                112  \n",
       "...              ...  \n",
       "11433              1  \n",
       "11434              1  \n",
       "11435              1  \n",
       "11436              1  \n",
       "11437              1  \n",
       "\n",
       "[11438 rows x 4 columns]"
      ]
     },
     "execution_count": 17,
     "metadata": {},
     "output_type": "execute_result"
    }
   ],
   "source": [
    "# Count how many times each book has been checked out\n",
    "inventory_df = inventory_df.value_counts().reset_index()\n",
    "inventory_df.rename(columns = {0: 'Num_Checkouts'}, inplace = True)\n",
    "\n",
    "inventory_df"
   ]
  },
  {
   "cell_type": "markdown",
   "id": "850ea805",
   "metadata": {},
   "source": [
    "## Index the Patron Data by the Inventory"
   ]
  },
  {
   "cell_type": "code",
   "execution_count": 18,
   "id": "9f984466",
   "metadata": {
    "scrolled": false
   },
   "outputs": [],
   "source": [
    "# Create an item ID columns based off of the index in the inventory\n",
    "if(index_patron):\n",
    "    patron_df = pd.merge(patron_df, inventory_df.reset_index())\n",
    "    patron_df = patron_df.drop(['Title', 'Author_First', 'Author_Last', 'Num_Checkouts'], axis = 1)\n",
    "    patron_df = patron_df.rename(columns = {'index': 'Item_ID'})"
   ]
  },
  {
   "cell_type": "markdown",
   "id": "76dab25c",
   "metadata": {},
   "source": [
    "# Export the DFs as CSV"
   ]
  },
  {
   "cell_type": "code",
   "execution_count": 19,
   "id": "408de989",
   "metadata": {},
   "outputs": [],
   "source": [
    "patron_df.to_csv('Clean_Patron.csv')\n",
    "inventory_df.to_csv('Clean_Inventory.csv')"
   ]
  },
  {
   "cell_type": "markdown",
   "id": "2113e3cb",
   "metadata": {},
   "source": [
    "# Final State of Dataframes"
   ]
  },
  {
   "cell_type": "code",
   "execution_count": 20,
   "id": "c5833bce",
   "metadata": {},
   "outputs": [
    {
     "data": {
      "text/html": [
       "<div>\n",
       "<style scoped>\n",
       "    .dataframe tbody tr th:only-of-type {\n",
       "        vertical-align: middle;\n",
       "    }\n",
       "\n",
       "    .dataframe tbody tr th {\n",
       "        vertical-align: top;\n",
       "    }\n",
       "\n",
       "    .dataframe thead th {\n",
       "        text-align: right;\n",
       "    }\n",
       "</style>\n",
       "<table border=\"1\" class=\"dataframe\">\n",
       "  <thead>\n",
       "    <tr style=\"text-align: right;\">\n",
       "      <th></th>\n",
       "      <th>Patron_ID</th>\n",
       "      <th>Item_ID</th>\n",
       "    </tr>\n",
       "  </thead>\n",
       "  <tbody>\n",
       "    <tr>\n",
       "      <th>67545</th>\n",
       "      <td>15307</td>\n",
       "      <td>2311</td>\n",
       "    </tr>\n",
       "    <tr>\n",
       "      <th>33477</th>\n",
       "      <td>13458</td>\n",
       "      <td>62</td>\n",
       "    </tr>\n",
       "    <tr>\n",
       "      <th>55746</th>\n",
       "      <td>13408</td>\n",
       "      <td>742</td>\n",
       "    </tr>\n",
       "    <tr>\n",
       "      <th>7632</th>\n",
       "      <td>11254</td>\n",
       "      <td>6079</td>\n",
       "    </tr>\n",
       "    <tr>\n",
       "      <th>64304</th>\n",
       "      <td>13606</td>\n",
       "      <td>1531</td>\n",
       "    </tr>\n",
       "    <tr>\n",
       "      <th>34381</th>\n",
       "      <td>13831</td>\n",
       "      <td>856</td>\n",
       "    </tr>\n",
       "    <tr>\n",
       "      <th>10009</th>\n",
       "      <td>11483</td>\n",
       "      <td>1416</td>\n",
       "    </tr>\n",
       "    <tr>\n",
       "      <th>28520</th>\n",
       "      <td>15520</td>\n",
       "      <td>435</td>\n",
       "    </tr>\n",
       "    <tr>\n",
       "      <th>50554</th>\n",
       "      <td>18038</td>\n",
       "      <td>1040</td>\n",
       "    </tr>\n",
       "    <tr>\n",
       "      <th>48462</th>\n",
       "      <td>12885</td>\n",
       "      <td>9961</td>\n",
       "    </tr>\n",
       "  </tbody>\n",
       "</table>\n",
       "</div>"
      ],
      "text/plain": [
       "       Patron_ID  Item_ID\n",
       "67545      15307     2311\n",
       "33477      13458       62\n",
       "55746      13408      742\n",
       "7632       11254     6079\n",
       "64304      13606     1531\n",
       "34381      13831      856\n",
       "10009      11483     1416\n",
       "28520      15520      435\n",
       "50554      18038     1040\n",
       "48462      12885     9961"
      ]
     },
     "execution_count": 20,
     "metadata": {},
     "output_type": "execute_result"
    }
   ],
   "source": [
    "patron_df.sample(10)"
   ]
  },
  {
   "cell_type": "code",
   "execution_count": 21,
   "id": "dc80ee5c",
   "metadata": {
    "scrolled": false
   },
   "outputs": [
    {
     "data": {
      "text/html": [
       "<div>\n",
       "<style scoped>\n",
       "    .dataframe tbody tr th:only-of-type {\n",
       "        vertical-align: middle;\n",
       "    }\n",
       "\n",
       "    .dataframe tbody tr th {\n",
       "        vertical-align: top;\n",
       "    }\n",
       "\n",
       "    .dataframe thead th {\n",
       "        text-align: right;\n",
       "    }\n",
       "</style>\n",
       "<table border=\"1\" class=\"dataframe\">\n",
       "  <thead>\n",
       "    <tr style=\"text-align: right;\">\n",
       "      <th></th>\n",
       "      <th>Title</th>\n",
       "      <th>Author_First</th>\n",
       "      <th>Author_Last</th>\n",
       "      <th>Num_Checkouts</th>\n",
       "    </tr>\n",
       "  </thead>\n",
       "  <tbody>\n",
       "    <tr>\n",
       "      <th>11183</th>\n",
       "      <td>the louisiana purchase</td>\n",
       "      <td>rebecca</td>\n",
       "      <td>rowell</td>\n",
       "      <td>1</td>\n",
       "    </tr>\n",
       "    <tr>\n",
       "      <th>8673</th>\n",
       "      <td>dangerous alterations</td>\n",
       "      <td>elizabeth lynn</td>\n",
       "      <td>casey</td>\n",
       "      <td>2</td>\n",
       "    </tr>\n",
       "    <tr>\n",
       "      <th>11170</th>\n",
       "      <td>shattered mirror</td>\n",
       "      <td>amelia</td>\n",
       "      <td>atwaterrhodes</td>\n",
       "      <td>1</td>\n",
       "    </tr>\n",
       "    <tr>\n",
       "      <th>189</th>\n",
       "      <td>snap</td>\n",
       "      <td>margaret and ayliffe</td>\n",
       "      <td>mayo</td>\n",
       "      <td>35</td>\n",
       "    </tr>\n",
       "    <tr>\n",
       "      <th>4878</th>\n",
       "      <td>cape refuge</td>\n",
       "      <td>terri</td>\n",
       "      <td>blackstock</td>\n",
       "      <td>4</td>\n",
       "    </tr>\n",
       "    <tr>\n",
       "      <th>8930</th>\n",
       "      <td>molly  the true story of the amazing dog who r...</td>\n",
       "      <td>colin</td>\n",
       "      <td>butcher</td>\n",
       "      <td>2</td>\n",
       "    </tr>\n",
       "    <tr>\n",
       "      <th>5918</th>\n",
       "      <td>100 perfect hair days  stepbysteps for pretty ...</td>\n",
       "      <td>jenny</td>\n",
       "      <td>strebe</td>\n",
       "      <td>4</td>\n",
       "    </tr>\n",
       "    <tr>\n",
       "      <th>5996</th>\n",
       "      <td>from 1 to 10</td>\n",
       "      <td>richard</td>\n",
       "      <td>scarry</td>\n",
       "      <td>4</td>\n",
       "    </tr>\n",
       "    <tr>\n",
       "      <th>10529</th>\n",
       "      <td>pleasures of the cottage garden</td>\n",
       "      <td>rand b</td>\n",
       "      <td>lee</td>\n",
       "      <td>2</td>\n",
       "    </tr>\n",
       "    <tr>\n",
       "      <th>2697</th>\n",
       "      <td>the little cowboy and the big cowboy</td>\n",
       "      <td>margaret</td>\n",
       "      <td>hillert</td>\n",
       "      <td>8</td>\n",
       "    </tr>\n",
       "  </tbody>\n",
       "</table>\n",
       "</div>"
      ],
      "text/plain": [
       "                                                   Title  \\\n",
       "11183                             the louisiana purchase   \n",
       "8673                               dangerous alterations   \n",
       "11170                                   shattered mirror   \n",
       "189                                                 snap   \n",
       "4878                                         cape refuge   \n",
       "8930   molly  the true story of the amazing dog who r...   \n",
       "5918   100 perfect hair days  stepbysteps for pretty ...   \n",
       "5996                                        from 1 to 10   \n",
       "10529                    pleasures of the cottage garden   \n",
       "2697                the little cowboy and the big cowboy   \n",
       "\n",
       "                Author_First    Author_Last  Num_Checkouts  \n",
       "11183                rebecca         rowell              1  \n",
       "8673          elizabeth lynn          casey              2  \n",
       "11170                 amelia  atwaterrhodes              1  \n",
       "189     margaret and ayliffe           mayo             35  \n",
       "4878                   terri     blackstock              4  \n",
       "8930                   colin        butcher              2  \n",
       "5918                   jenny         strebe              4  \n",
       "5996                 richard         scarry              4  \n",
       "10529                 rand b            lee              2  \n",
       "2697                margaret        hillert              8  "
      ]
     },
     "execution_count": 21,
     "metadata": {},
     "output_type": "execute_result"
    }
   ],
   "source": [
    "inventory_df.sample(10)"
   ]
  },
  {
   "cell_type": "markdown",
   "id": "b24e98d9",
   "metadata": {},
   "source": [
    "# Exploring the Data"
   ]
  },
  {
   "cell_type": "code",
   "execution_count": 22,
   "id": "53c920f3",
   "metadata": {},
   "outputs": [
    {
     "data": {
      "text/plain": [
       "74729"
      ]
     },
     "execution_count": 22,
     "metadata": {},
     "output_type": "execute_result"
    }
   ],
   "source": [
    "# Number of entries in patron\n",
    "len(patron_df)"
   ]
  },
  {
   "cell_type": "code",
   "execution_count": 23,
   "id": "60e38e85",
   "metadata": {
    "scrolled": false
   },
   "outputs": [
    {
     "data": {
      "text/plain": [
       "1015"
      ]
     },
     "execution_count": 23,
     "metadata": {},
     "output_type": "execute_result"
    }
   ],
   "source": [
    "# Number of unique patrons\n",
    "patron_df['Patron_ID'].nunique()"
   ]
  },
  {
   "cell_type": "code",
   "execution_count": 24,
   "id": "884ca0f3",
   "metadata": {},
   "outputs": [
    {
     "data": {
      "text/plain": [
       "11438"
      ]
     },
     "execution_count": 24,
     "metadata": {},
     "output_type": "execute_result"
    }
   ],
   "source": [
    "# Number of unique items in the inventory\n",
    "len(inventory_df)"
   ]
  },
  {
   "cell_type": "code",
   "execution_count": 25,
   "id": "dbf73378",
   "metadata": {},
   "outputs": [
    {
     "data": {
      "text/plain": [
       "11230"
      ]
     },
     "execution_count": 25,
     "metadata": {},
     "output_type": "execute_result"
    }
   ],
   "source": [
    "# Number of unique titles\n",
    "inventory_df['Title'].nunique()"
   ]
  }
 ],
 "metadata": {
  "kernelspec": {
   "display_name": "Python 3 (ipykernel)",
   "language": "python",
   "name": "python3"
  },
  "language_info": {
   "codemirror_mode": {
    "name": "ipython",
    "version": 3
   },
   "file_extension": ".py",
   "mimetype": "text/x-python",
   "name": "python",
   "nbconvert_exporter": "python",
   "pygments_lexer": "ipython3",
   "version": "3.9.12"
  }
 },
 "nbformat": 4,
 "nbformat_minor": 5
}
