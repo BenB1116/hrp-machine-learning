{
 "cells": [
  {
   "cell_type": "code",
   "execution_count": 1,
   "id": "795e87bd",
   "metadata": {},
   "outputs": [],
   "source": [
    "import pandas as pd\n",
    "import numpy as np\n",
    "import math"
   ]
  },
  {
   "cell_type": "code",
   "execution_count": 2,
   "id": "fd8b41a1",
   "metadata": {},
   "outputs": [],
   "source": [
    "patron_url = 'https://github.com/BenB1116/hrp-machine-learning/blob/master/Data/Clean_Data/Clean_Patron.csv?raw=true'\n",
    "inventory_url = 'https://github.com/BenB1116/hrp-machine-learning/blob/master/Data/Clean_Data/Clean_Inventory.csv?raw=true'\n",
    "\n",
    "patron_df = pd.read_csv(patron_url)\n",
    "inventory_df = pd.read_csv(inventory_url)"
   ]
  },
  {
   "cell_type": "code",
   "execution_count": 3,
   "id": "22dd7983",
   "metadata": {},
   "outputs": [
    {
     "data": {
      "text/plain": [
       "74729"
      ]
     },
     "execution_count": 3,
     "metadata": {},
     "output_type": "execute_result"
    }
   ],
   "source": [
    "#patron_df = patron_df.drop('Unnamed: 0', axis = 1).drop_duplicates()\n",
    "len(patron_df)"
   ]
  },
  {
   "cell_type": "code",
   "execution_count": 4,
   "id": "7695540e",
   "metadata": {},
   "outputs": [],
   "source": [
    "patrons_per_item = {}\n",
    "\n",
    "# Create an array of all item ids and an empty list\n",
    "item_ids = inventory_df.index\n",
    "patrons = []\n",
    "\n",
    "# Given an item id get a list of patrons that have checked out that book\n",
    "for item_id in item_ids:\n",
    "    patrons_per_item[item_id] = patron_df[patron_df['Item_ID'] == item_id]['Patron_ID'].values "
   ]
  },
  {
   "cell_type": "code",
   "execution_count": 5,
   "id": "8f0b34ec",
   "metadata": {},
   "outputs": [],
   "source": [
    "#Takes the intersection of any two patron arrays give the item id\n",
    "def intersect(item1, item2):\n",
    "    return np.array(np.intersect1d(patrons_per_item[item1], patrons_per_item[item2]))\n",
    "   \n",
    "#Takes the union of any two patron arrays give the item id\n",
    "def union(item1, item2):\n",
    "    arr1 = list(patrons_per_item[item1])\n",
    "    arr2 = list(patrons_per_item[item2])\n",
    "    \n",
    "    return np.unique(np.concatenate((arr1, arr2)))\n",
    "\n",
    "# Sorts a dictionary by values in descending order\n",
    "def sort_dict_values(sim_dict):\n",
    "    sim_list = reversed(sorted(sim_dict.items(), key=lambda x:x[1]))\n",
    "    return dict(sim_list)"
   ]
  },
  {
   "cell_type": "code",
   "execution_count": 6,
   "id": "cdf0e8f2",
   "metadata": {},
   "outputs": [],
   "source": [
    "# Takes the Jaccard Similarity between any two item ids\n",
    "def jacc_sim(item1, item2):\n",
    "    #Divide the cardinality of the intersect of the list by the union\n",
    "    return len(intersect(item1, item2)) / len(union(item1, item2))\n",
    "\n",
    "# Calculates the similartiy of an item with every other item in the inventory\n",
    "def get_sims(item_id):\n",
    "    sims = {}\n",
    "    \n",
    "    # Calculate the Jaccard Similartiy for every item\n",
    "    for item in item_ids:\n",
    "        sims[item] = jacc_sim(item_id, item)\n",
    "    \n",
    "    return sims\n",
    "\n",
    "# Returns the top n items that have the  highest Jaccard Similarity to an item\n",
    "def get_topn(item_id, top_n = 1):\n",
    "    # Calculate the similarity of item_id to all items and remove item_id from the dictionary\n",
    "    sims = get_sims(item_id)\n",
    "    del sims[item_id]\n",
    "    \n",
    "    # Sort the resulting dictionary and select the top_n items\n",
    "    sort_sims = sort_dict_values(sims)\n",
    "    topn_items = {k: sort_sims[k] for k in list(sort_sims.keys())[:top_n]}\n",
    "\n",
    "    return topn_items"
   ]
  },
  {
   "cell_type": "code",
   "execution_count": 7,
   "id": "7dc72bf8",
   "metadata": {},
   "outputs": [],
   "source": [
    "# Returns the entry from the inventory given an item id\n",
    "def get_item_info(item_id):\n",
    "    return inventory_df.iloc[item_id]\n",
    "\n",
    "# Returns a string version of an item containing the title and author name\n",
    "def get_item_string(item_id):\n",
    "    item_ser = get_item_info(item_id)\n",
    "    \n",
    "    author_first = item_ser.loc['Author_First']\n",
    "    author_last = item_ser.loc['Author_Last']\n",
    "    item_title = item_ser.loc['Title']\n",
    "\n",
    "    return str(item_title) +'\\n\\tby: ' + str(author_last) + ', ' + str(author_first)\n",
    "\n",
    "# Returns the number of spaces needed to space a string correctly\n",
    "def num_space(i):\n",
    "    # Get the number of digits\n",
    "    digits = math.floor(math.log(i, 10))\n",
    "    return 5 - digits\n",
    "\n",
    "# Returns a string of the top n items closest to an item\n",
    "def get_topn_string(item_id, top_n):\n",
    "    # Get the title and name of the item \n",
    "    topn_items = get_topn(item_id, top_n)  \n",
    "    topn_string = 'The top ' + str(top_n) + ' closest items to: \\n' + '\\t' + get_item_string(item_id) +'\\nAre:'\n",
    "\n",
    "    # Append each of the top n items to the topn string\n",
    "    i = 1\n",
    "    for item in topn_items.keys():\n",
    "        topn_string += '\\n' + ' '*num_space(i) + str(i) + '. ' + get_item_string(item) + '\\n'\n",
    "        i = i + 1\n",
    "        \n",
    "    return(topn_string)"
   ]
  },
  {
   "cell_type": "code",
   "execution_count": 10,
   "id": "b8e6840a",
   "metadata": {
    "scrolled": true
   },
   "outputs": [
    {
     "name": "stdout",
     "output_type": "stream",
     "text": [
      "The top 5 closest items to: \n",
      "\tthe lorax\n",
      "\tby: seuss, nan\n",
      "Are:\n",
      "     1. lookalikes christmas\n",
      "\tby: steiner,  joan\n",
      "\n",
      "     2. happy halloween biscuit\n",
      "\tby: capucilli,  alyssa satin\n",
      "\n",
      "     3. watching you\n",
      "\tby: jewell,  lisa\n",
      "\n",
      "     4. puppies and kittens\n",
      "\tby: corse,  nicole\n",
      "\n",
      "     5. molly pitcher\n",
      "\tby: gleiter,  jan\n",
      "\n"
     ]
    }
   ],
   "source": [
    "# Get the item id an number of desired entries\n",
    "item_id = int(input('Please enter an item id: '))\n",
    "topn = int(input('Please enter the number of like items you would like: '))\n",
    "\n",
    "print(get_topn_string(item_id, topn))"
   ]
  },
  {
   "cell_type": "markdown",
   "id": "952396cd",
   "metadata": {},
   "source": [
    "Some recommended item IDs are 3, 45, 1056 and 6724"
   ]
  }
 ],
 "metadata": {
  "kernelspec": {
   "display_name": "Python 3 (ipykernel)",
   "language": "python",
   "name": "python3"
  },
  "language_info": {
   "codemirror_mode": {
    "name": "ipython",
    "version": 3
   },
   "file_extension": ".py",
   "mimetype": "text/x-python",
   "name": "python",
   "nbconvert_exporter": "python",
   "pygments_lexer": "ipython3",
   "version": "3.9.12"
  },
  "vscode": {
   "interpreter": {
    "hash": "91c1d2470ab80b393afef1a9308e4146ea19685bf186cfe44fe3659b7d9e4fc0"
   }
  }
 },
 "nbformat": 4,
 "nbformat_minor": 5
}
