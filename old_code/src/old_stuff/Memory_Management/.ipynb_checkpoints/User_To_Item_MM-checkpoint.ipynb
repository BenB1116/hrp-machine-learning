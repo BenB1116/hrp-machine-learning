{
 "cells": [
  {
   "cell_type": "code",
   "execution_count": 1,
   "id": "27f5cce4",
   "metadata": {},
   "outputs": [],
   "source": [
    "import pandas as pd\n",
    "import numpy as np"
   ]
  },
  {
   "cell_type": "code",
   "execution_count": 2,
   "id": "62133fad",
   "metadata": {},
   "outputs": [],
   "source": [
    "#Github URLs\n",
    "patron_url = 'https://github.com/BenB1116/hrp-machine-learning/blob/master/Data/Clean_Data/Clean_Patron.csv?raw=true'\n",
    "inventory_url = 'https://github.com/BenB1116/hrp-machine-learning/blob/master/Data/Clean_Data/Clean_Inventory.csv?raw=true'\n",
    "\n",
    "#Import and convert csv files\n",
    "raw_patron_df = pd.read_csv(patron_url)\n",
    "raw_inventory_df = pd.read_csv(inventory_url)"
   ]
  },
  {
   "cell_type": "code",
   "execution_count": 3,
   "id": "69ed7738",
   "metadata": {},
   "outputs": [],
   "source": [
    "# Create copies of dfs\n",
    "patron_df = raw_patron_df.copy()\n",
    "inventory_df = raw_inventory_df.copy()\n",
    "\n",
    "# Drop random columns\n",
    "patron_df.drop(columns = 'Unnamed: 0', inplace = True)\n",
    "inventory_df.drop(columns = 'Unnamed: 0', inplace = True)"
   ]
  },
  {
   "cell_type": "code",
   "execution_count": 4,
   "id": "097d6c0b",
   "metadata": {
    "scrolled": true
   },
   "outputs": [
    {
     "name": "stdout",
     "output_type": "stream",
     "text": [
      "   Patron_ID  Item_ID\n",
      "0      10010     4240\n",
      "1      13341     4240\n",
      "2      13341     4240\n",
      "3      17969     4240\n",
      "4      17969     4240\n",
      "                         Title  Author_First Author_Last  Num_Checkouts\n",
      "0           sonic the hedgehog           ian       flynn            235\n",
      "1    babysitters little sister          katy      farina            163\n",
      "2  if you give a pig a pancake   laura joffe    numeroff            119\n",
      "3                     beastars          paru     itagaki            114\n",
      "4    if you give a dog a donut   laura joffe    numeroff            112\n"
     ]
    }
   ],
   "source": [
    "print(patron_df.head())\n",
    "print(inventory_df.head())"
   ]
  },
  {
   "cell_type": "code",
   "execution_count": 5,
   "id": "f9053c18",
   "metadata": {},
   "outputs": [],
   "source": [
    "# Create lists of all patrons and items\n",
    "patron_list = patron_df['Patron_ID'].unique().tolist()\n",
    "inventory_list = patron_df['Item_ID'].unique().tolist()\n",
    "\n",
    "# Create Items by User and Users by Item dictionaries\n",
    "items_by_user = {patron: patron_df[patron_df['Patron_ID'] == patron]['Item_ID'].unique().tolist() for patron in patron_list}\n",
    "users_by_item = {item: patron_df[patron_df['Item_ID'] == item]['Patron_ID'].unique().tolist() for item in inventory_list}"
   ]
  },
  {
   "cell_type": "code",
   "execution_count": 6,
   "id": "206dd49e",
   "metadata": {},
   "outputs": [],
   "source": [
    "#Enter a user to recommend to\n",
    "#selected_user = input('Please select a user: ')\n",
    "selected_user = 17969\n",
    "num = 5"
   ]
  },
  {
   "cell_type": "code",
   "execution_count": 7,
   "id": "47645548",
   "metadata": {},
   "outputs": [],
   "source": [
    "# Return the set union of two lists\n",
    "def union(list1, list2):\n",
    "    return set.union(set(list1), set(list2))\n",
    "\n",
    "#Return the set intersection of two lists\n",
    "def intersect(list1, list2):\n",
    "    return set.intersection(set(list1), set(list2))\n",
    "\n",
    "# Take the jaccard simlarity between two items\n",
    "def jaccard(item1, item2):\n",
    "    list1 = users_by_item[item1]\n",
    "    list2 = users_by_item[item2]\n",
    "    \n",
    "    return len(intersect(list1, list2))/len(union(list1, list2))"
   ]
  },
  {
   "cell_type": "markdown",
   "id": "8dd859fc",
   "metadata": {},
   "source": [
    "## Average Similarity"
   ]
  },
  {
   "cell_type": "code",
   "execution_count": 8,
   "id": "8cef5605",
   "metadata": {},
   "outputs": [],
   "source": [
    "# Get a list of possible canidates given a specific item\n",
    "def get_canidate_list(item):\n",
    "    # Create a list of all users that have checked out that item\n",
    "    common_users = patron_df[patron_df['Item_ID'] == item]['Patron_ID'].unique().tolist()\n",
    "    \n",
    "    # For each user append its item list to common items\n",
    "    common_items = []\n",
    "    for user in common_users:\n",
    "        common_items.extend(items_by_user[user])\n",
    "    \n",
    "    return list(set(common_items))"
   ]
  },
  {
   "cell_type": "code",
   "execution_count": 9,
   "id": "24008246",
   "metadata": {},
   "outputs": [],
   "source": [
    "# Calculate the similarity to any items in the canidate list of an item\n",
    "def get_similarities(item):\n",
    "    can_list = get_canidate_list(item)\n",
    "    \n",
    "    if isinstance(can_list, type(None)):\n",
    "        return {}\n",
    "    \n",
    "    return {can: jaccard(item, can) for can in can_list}"
   ]
  },
  {
   "cell_type": "code",
   "execution_count": 10,
   "id": "a3b2d7fe",
   "metadata": {
    "scrolled": true
   },
   "outputs": [],
   "source": [
    "# Get all items in the users item list\n",
    "selected_items = items_by_user[selected_user]\n",
    "\n",
    "# Get the similarity dictionary for evey item in \n",
    "sim_dict_list = [get_similarities(item) for item in selected_items]\n",
    "for item in selected_items:\n",
    "    type(get_similarities(item))\n",
    "\n",
    "# Get evry key that makes an apperance in any dictionary\n",
    "key_list = []\n",
    "for sim_dict in sim_dict_list:\n",
    "    key_list.extend(list(sim_dict.keys()))\n",
    "\n",
    "# Count how many times a key occurs in the dictionaries\n",
    "key_count = {key: key_list.count(key) for key in key_list}\n",
    "\n",
    "# Calculate the average value across every dictinary for each key\n",
    "avg_dict = {}\n",
    "for key in key_list:\n",
    "    sum = 0\n",
    "    for sim_dict in sim_dict_list:\n",
    "        if key in sim_dict:\n",
    "            sum += sim_dict[key]\n",
    "    avg_dict[key] = sum / key_count[key]"
   ]
  },
  {
   "cell_type": "code",
   "execution_count": 11,
   "id": "b285082d",
   "metadata": {},
   "outputs": [],
   "source": [
    "def dict_sort(unsort_dict):\n",
    "    return {item: sim for item, sim in sorted(unsort_dict.items(), key = lambda item: item[1], reverse = True)}\n",
    "\n",
    "def get_top_n(dic, n):\n",
    "    return list(dic.keys())[:n + 1]"
   ]
  },
  {
   "cell_type": "code",
   "execution_count": 12,
   "id": "fda26a0e",
   "metadata": {},
   "outputs": [
    {
     "name": "stdout",
     "output_type": "stream",
     "text": [
      "The top 5 selections for user 17969 are\n",
      "\n",
      "the screwtape letters\n",
      "\tby: lewis,  c s\n",
      "blessed are the merciful\n",
      "\tby: lacy,  al\n",
      "unbroken  an olympians journey from airman to castaway to captive\n",
      "\tby: hillenbrand,  laura\n",
      "when breaks the dawn\n",
      "\tby: oke,  janette\n",
      "comfort food  rachael ray top 30 30minute meals\n",
      "\tby: ray,  rachael\n",
      "awaken\n",
      "\tby: cabot,  meg\n"
     ]
    }
   ],
   "source": [
    "top_n_list = get_top_n(dict_sort(avg_dict), num)\n",
    "\n",
    "print(f'The top {num} selections for user {selected_user} are\\n')\n",
    "\n",
    "for item in top_n_list:\n",
    "    item_ser = inventory_df.iloc[item]\n",
    "    \n",
    "    author_first = item_ser.loc['Author_First']\n",
    "    author_last = item_ser.loc['Author_Last']\n",
    "    item_title = item_ser.loc['Title']\n",
    "\n",
    "    print(str(item_title) +'\\n\\tby: ' + str(author_last) + ', ' + str(author_first))"
   ]
  }
 ],
 "metadata": {
  "kernelspec": {
   "display_name": "Python 3 (ipykernel)",
   "language": "python",
   "name": "python3"
  },
  "language_info": {
   "codemirror_mode": {
    "name": "ipython",
    "version": 3
   },
   "file_extension": ".py",
   "mimetype": "text/x-python",
   "name": "python",
   "nbconvert_exporter": "python",
   "pygments_lexer": "ipython3",
   "version": "3.9.12"
  },
  "vscode": {
   "interpreter": {
    "hash": "369f2c481f4da34e4445cda3fffd2e751bd1c4d706f27375911949ba6bb62e1c"
   }
  }
 },
 "nbformat": 4,
 "nbformat_minor": 5
}
