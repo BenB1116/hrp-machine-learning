{
 "cells": [
  {
   "cell_type": "code",
   "execution_count": 204,
   "metadata": {},
   "outputs": [],
   "source": [
    "import pandas as pd\n",
    "import numpy as np\n",
    "import math"
   ]
  },
  {
   "cell_type": "code",
   "execution_count": 205,
   "metadata": {},
   "outputs": [],
   "source": [
    "#Github URLs\n",
    "patron_url = 'https://github.com/BenB1116/hrp-machine-learning/blob/master/Data/Clean_Data/Clean_Patron.csv?raw=true'\n",
    "inventory_url = 'https://github.com/BenB1116/hrp-machine-learning/blob/master/Data/Clean_Data/Clean_Inventory.csv?raw=true'\n",
    "\n",
    "#Import and convert csv files\n",
    "raw_patron_df = pd.read_csv(patron_url)\n",
    "raw_inventory_df = pd.read_csv(inventory_url)"
   ]
  },
  {
   "cell_type": "code",
   "execution_count": 206,
   "metadata": {},
   "outputs": [],
   "source": [
    "# Create copies of dfs\n",
    "patron_df = raw_patron_df.copy()\n",
    "inventory_df = raw_inventory_df.copy()\n",
    "\n",
    "# Drop random columns\n",
    "patron_df.drop(columns = 'Unnamed: 0', inplace = True)\n",
    "inventory_df.drop(columns = 'Unnamed: 0', inplace = True)"
   ]
  },
  {
   "cell_type": "code",
   "execution_count": 207,
   "metadata": {},
   "outputs": [],
   "source": [
    "def get_can_list(item_id):\n",
    "    users = set(patron_df[patron_df['Item_ID'] == item_id]['Patron_ID'].values)\n",
    "\n",
    "    common_items = []\n",
    "    for user in users:\n",
    "        common_items += list(patron_df[patron_df['Patron_ID'] == user]['Item_ID'].values)\n",
    "    return list(set(common_items))   \n",
    "\n",
    "def get_user_per_item(item_id):\n",
    "    can_list = get_can_list(item_id)\n",
    "\n",
    "    return {item: set(patron_df[patron_df['Item_ID'] == item]['Patron_ID'].values) for item in can_list}\n"
   ]
  },
  {
   "cell_type": "code",
   "execution_count": 208,
   "metadata": {},
   "outputs": [],
   "source": [
    "# Set Operations\n",
    "\n",
    "# Union\n",
    "#Takes the union of any two patron arrays given the item ids\n",
    "def union(list1, item2):\n",
    "    return set.union(patrons_by_item[item1], patrons_by_item[item2])\n",
    "\n",
    "# Intersection\n",
    "#Takes the intersection of any two patron arrays give the item id\n",
    "def intersect(item1, item2):\n",
    "    return set.intersection(patrons_by_item[item1], patrons_by_item[item2])"
   ]
  },
  {
   "cell_type": "code",
   "execution_count": 209,
   "metadata": {},
   "outputs": [],
   "source": [
    "# Similarity Functions\n",
    "\n",
    "#Naive Similarity\n",
    "def naive_similarity(item1_list, item2_list):\n",
    "    return len(intersect(item1_list, item2_list))\n",
    "\n",
    "# Jaccard Similarity\n",
    "def jaccard_similarity(item1_list, item2_list):\n",
    "    return len(set.intersection(item1_list, item2_list)) / len(set.union(item1_list, item2_list))\n",
    "\n",
    "# Cosine Similarity\n",
    "def cosine_similarity(item1_list, item2_list):\n",
    "    num = len(intersect(item1_list, item2_list))\n",
    "    dem = math.sqrt(len(item1_list) * len(item2_list))\n",
    "    \n",
    "    return  num / dem"
   ]
  },
  {
   "cell_type": "code",
   "execution_count": 210,
   "metadata": {},
   "outputs": [],
   "source": [
    "def sim_scores(target_item_id, func, dic):\n",
    "    scores = {item: func(dic[target_item_id], dic[item]) for item in list(dic.keys())}\n",
    "    sorted_scores = {item: sim for item, sim in sorted(scores.items(), key = lambda item: item[1], reverse = True)}\n",
    "\n",
    "    return list(sorted_scores.keys())"
   ]
  },
  {
   "cell_type": "code",
   "execution_count": 236,
   "metadata": {},
   "outputs": [
    {
     "name": "stdout",
     "output_type": "stream",
     "text": [
      "Chosen book:\n",
      "Title: beastars\n",
      "Author: itagaki,  paru\n",
      "\n",
      "The top 5 closest results are:\n",
      "Title: tokyo ghoul  re\n",
      "Author: ishida,  sui\n",
      "\n",
      "Title: tokyo ghoulre\n",
      "Author: ishida,  sui\n",
      "\n",
      "Title: assassination classroom vol 3\n",
      "Author: matsui,  yusei\n",
      "\n",
      "Title: assassination classroom vol 2\n",
      "Author: matsui,  yusei\n",
      "\n",
      "Title: tokyo ghoul re\n",
      "Author: ishida,  sui\n",
      "\n"
     ]
    }
   ],
   "source": [
    "num = 5\n",
    "top_n = sim_scores(3, jaccard_similarity, get_user_per_item(3))[:num + 1]\n",
    "\n",
    "for i, item in enumerate(top_n):\n",
    "    if i == 0:\n",
    "        print('Chosen book:')\n",
    "    elif i== 1:\n",
    "        print(f\"The top {num} closest results are:\")\n",
    "    print(f\"Title: {inventory_df.iloc[item]['Title']}\\nAuthor: {inventory_df.iloc[item]['Author_Last']}, {inventory_df.iloc[item]['Author_First']}\\n\")"
   ]
  }
 ],
 "metadata": {
  "kernelspec": {
   "display_name": "Python 3.9.12 ('base')",
   "language": "python",
   "name": "python3"
  },
  "language_info": {
   "codemirror_mode": {
    "name": "ipython",
    "version": 3
   },
   "file_extension": ".py",
   "mimetype": "text/x-python",
   "name": "python",
   "nbconvert_exporter": "python",
   "pygments_lexer": "ipython3",
   "version": "3.9.12"
  },
  "orig_nbformat": 4,
  "vscode": {
   "interpreter": {
    "hash": "91c1d2470ab80b393afef1a9308e4146ea19685bf186cfe44fe3659b7d9e4fc0"
   }
  }
 },
 "nbformat": 4,
 "nbformat_minor": 2
}
