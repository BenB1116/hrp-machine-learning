{
 "cells": [
  {
   "cell_type": "code",
   "execution_count": 2,
   "id": "f5e92e1c",
   "metadata": {},
   "outputs": [],
   "source": [
    "import math"
   ]
  },
  {
   "cell_type": "code",
   "execution_count": 1,
   "id": "aff67482",
   "metadata": {},
   "outputs": [],
   "source": [
    "# Set operations\n",
    "def list_union(list1, list2):\n",
    "    return list(set.union(set(list1), set(list2)))\n",
    "\n",
    "def list_intersect(list1, list2):\n",
    "    return list(set.intersection(set(list1), set(list2)))"
   ]
  },
  {
   "cell_type": "code",
   "execution_count": 7,
   "id": "84b08f0a",
   "metadata": {},
   "outputs": [],
   "source": [
    "# Similarity scores\n",
    "def naive(list1, list2):\n",
    "    return len(list_intersect(list1, list2))\n",
    "\n",
    "def jaccard(list1, list2):\n",
    "    return len(list_intersect(list1, list2)) / len(list_union(list1, list2))\n",
    "\n",
    "def cosine(list1, list2):\n",
    "    num = naive(list1, list2)\n",
    "    den = len(set(list1)) * len(set(list2))\n",
    "    \n",
    "    return math.acos(num / den)"
   ]
  }
 ],
 "metadata": {
  "kernelspec": {
   "display_name": "Python 3 (ipykernel)",
   "language": "python",
   "name": "python3"
  },
  "language_info": {
   "codemirror_mode": {
    "name": "ipython",
    "version": 3
   },
   "file_extension": ".py",
   "mimetype": "text/x-python",
   "name": "python",
   "nbconvert_exporter": "python",
   "pygments_lexer": "ipython3",
   "version": "3.9.12"
  }
 },
 "nbformat": 4,
 "nbformat_minor": 5
}
