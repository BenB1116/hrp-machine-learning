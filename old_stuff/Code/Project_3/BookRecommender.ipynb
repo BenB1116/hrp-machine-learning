{
 "cells": [
  {
   "cell_type": "code",
   "execution_count": 1,
   "id": "b131d017",
   "metadata": {},
   "outputs": [],
   "source": [
    "import pandas as pd\n",
    "import numpy as np\n",
    "import random\n",
    "from tkinter import Tk\n",
    "from tkinter.filedialog import askopenfilename\n",
    "from sklearn.linear_model import LogisticRegression\n",
    "from sklearn.model_selection import train_test_split\n",
    "\n",
    "from ObjectToObjectRecommender import ObjectToObjectRecommender as OTO"
   ]
  },
  {
   "cell_type": "code",
   "execution_count": 2,
   "id": "0e17a962",
   "metadata": {},
   "outputs": [],
   "source": [
    "Tk().withdraw()\n",
    "\n",
    "# def getPatronPath():\n",
    "#     filename = askopenfilename()\n",
    "#     return(filename)\n",
    "\n",
    "# def getInventoryPath():\n",
    "#     filename = askopenfilename()\n",
    "#     return(filename)\n",
    "\n",
    "# Remove to select folder or paste path below.\n",
    "# patron_path = getPatronPath()\n",
    "# inventory_pat = getInventoryPath()\n",
    "\n",
    "patron_path = 'C:/Users/Ben/Desktop/HRP/Data/Clean_Data/Clean_Patron.csv'\n",
    "inventory_path = 'C:/Users/Ben/Desktop/HRP/Data/Clean_Data/Clean_Inventory.csv'\n",
    "\n",
    "patron_df = pd.read_csv(patron_path)\n",
    "inv_df = pd.read_csv(inventory_path)\n",
    "\n",
    "# Drop random columns\n",
    "patron_df.drop(columns = 'Unnamed: 0', inplace = True)\n",
    "inv_df.drop(columns = 'Unnamed: 0', inplace = True)"
   ]
  },
  {
   "cell_type": "code",
   "execution_count": 3,
   "id": "2a90ba49",
   "metadata": {
    "scrolled": true
   },
   "outputs": [],
   "source": [
    "# Create Instances of an item to item and user to user comparators\n",
    "iti = OTO(patron_df, 'Patron_ID', 'Item_ID')\n",
    "ptp = OTO(patron_df, 'Item_ID', 'Patron_ID')"
   ]
  },
  {
   "cell_type": "code",
   "execution_count": 4,
   "id": "f808eb44",
   "metadata": {},
   "outputs": [],
   "source": [
    "def get_patron_pairs(patron_id):\n",
    "    '''\n",
    "    Creates a list of positive patron and item pairs and an equally as large list of negative pairs\n",
    "    '''\n",
    "    pair_list = []\n",
    "\n",
    "    # Get a list of pairs of patron, item that the patron has read.\n",
    "    has_list = iti.objects_by_actor[patron_id]\n",
    "    for item in has_list:\n",
    "        pair_list.append([patron_id, item, 1])\n",
    "\n",
    "    has_len = len(pair_list)\n",
    "\n",
    "    # Get a list of pairs of patron, item that the patron hasn't read.\n",
    "    hasnt_list = random.sample([x for x in iti.object_ids if x not in has_list], has_len)\n",
    "\n",
    "    for item in hasnt_list:\n",
    "        pair_list.append([patron_id, item, 0])\n",
    "\n",
    "    return pair_list"
   ]
  },
  {
   "cell_type": "code",
   "execution_count": 5,
   "id": "1cd1b0d5",
   "metadata": {},
   "outputs": [],
   "source": [
    "def get_feat_vec(pair):\n",
    "    '''\n",
    "    Creates a list of selected features for any patron and item pair.\n",
    "    '''\n",
    "    feat_vec = []\n",
    "\n",
    "    # User-Item pair (u, i)\n",
    "    patron = pair[0]\n",
    "    item = pair[1]\n",
    "\n",
    "    # Popularity of i\n",
    "    feat_vec.append(len(patron_df[patron_df['Item_ID'] == item]))\n",
    "\n",
    "    # The similarity between i and the most similar book the user u has read\n",
    "    max = 0\n",
    "    items_read = iti.get_objects(patron)\n",
    "\n",
    "    for item_id in items_read:\n",
    "        sim_score = iti.jaccard(item, item_id)\n",
    "        if sim_score > max:\n",
    "            max = sim_score\n",
    "\n",
    "    feat_vec.append(max)\n",
    "\n",
    "    # The similarity between the user u and the most similar user who has read i\n",
    "    max = 0\n",
    "    patron_read = ptp.get_objects(item)\n",
    "\n",
    "    for patron_id in patron_read:\n",
    "        sim_score = ptp.jaccard(patron, patron_id)\n",
    "        if sim_score > max:\n",
    "            max = sim_score\n",
    "\n",
    "    feat_vec.append(max)\n",
    "\n",
    "    return feat_vec"
   ]
  },
  {
   "cell_type": "code",
   "execution_count": 6,
   "id": "378b71a0",
   "metadata": {},
   "outputs": [
    {
     "name": "stdout",
     "output_type": "stream",
     "text": [
      "CPU times: total: 3.16 s\n",
      "Wall time: 3.15 s\n"
     ]
    }
   ],
   "source": [
    "%%time\n",
    "# Create a user and item pairs for all users in the test DataFrame\n",
    "pairs_lists = [get_patron_pairs(patron_id) for patron_id in set(iti.actor_ids)]\n",
    "\n",
    "# unpack user and item pair list into the pair list and label list\n",
    "pairs  = []\n",
    "label_list = []\n",
    "\n",
    "for pair_list in pairs_lists:\n",
    "    for pair in pair_list:\n",
    "        pairs.append(pair[:2])\n",
    "        label_list.append(pair[2])"
   ]
  },
  {
   "cell_type": "code",
   "execution_count": 7,
   "id": "af27de00",
   "metadata": {},
   "outputs": [
    {
     "name": "stdout",
     "output_type": "stream",
     "text": [
      "CPU times: total: 40.7 s\n",
      "Wall time: 40.7 s\n"
     ]
    }
   ],
   "source": [
    "%%time\n",
    "# Generate the feature vector for each pair\n",
    "pair_feats = [get_feat_vec(pair) for pair in pairs]"
   ]
  },
  {
   "cell_type": "code",
   "execution_count": 8,
   "id": "18536779",
   "metadata": {},
   "outputs": [],
   "source": [
    "# Split the feature vectors and labels into 75% for training an 25% for testing.\n",
    "X_train, X_test, y_train, y_test = train_test_split(pair_feats, label_list, test_size=0.25, random_state=16)"
   ]
  },
  {
   "cell_type": "code",
   "execution_count": 9,
   "id": "cb5d6400",
   "metadata": {},
   "outputs": [
    {
     "data": {
      "text/plain": [
       "LogisticRegression()"
      ]
     },
     "execution_count": 9,
     "metadata": {},
     "output_type": "execute_result"
    }
   ],
   "source": [
    "# Initailize the model and fit to the training data.\n",
    "logreg = LogisticRegression()\n",
    "\n",
    "logreg.fit(X_train, y_train)"
   ]
  },
  {
   "cell_type": "code",
   "execution_count": 10,
   "id": "1e567ea0",
   "metadata": {},
   "outputs": [],
   "source": [
    "# Make predictions on the test set.\n",
    "y_pred = logreg.predict(X_test)"
   ]
  },
  {
   "cell_type": "code",
   "execution_count": 11,
   "id": "ae1ca324",
   "metadata": {},
   "outputs": [
    {
     "data": {
      "text/plain": [
       "17710"
      ]
     },
     "execution_count": 11,
     "metadata": {},
     "output_type": "execute_result"
    }
   ],
   "source": [
    "len(y_pred)"
   ]
  },
  {
   "cell_type": "code",
   "execution_count": 12,
   "id": "a7a90502",
   "metadata": {},
   "outputs": [
    {
     "data": {
      "text/plain": [
       "11438"
      ]
     },
     "execution_count": 12,
     "metadata": {},
     "output_type": "execute_result"
    }
   ],
   "source": [
    "len(inv_df)"
   ]
  },
  {
   "cell_type": "code",
   "execution_count": 13,
   "id": "01dbd4b7",
   "metadata": {},
   "outputs": [],
   "source": [
    "# from sklearn import metrics\n",
    "\n",
    "# cnf_matrix = metrics.confusion_matrix(y_test, y_pred)\n",
    "# print(cnf_matrix)\n",
    "\n",
    "# metrics.precision_score(y_test, y_pred)\n",
    "\n",
    "# from sklearn.metrics import classification_report\n",
    "\n",
    "# target_names = ['shouldn\\'t checkout', 'should checkout']\n",
    "# print(classification_report(y_test, y_pred, target_names=target_names))"
   ]
  },
  {
   "cell_type": "code",
   "execution_count": 14,
   "id": "c57ef09b",
   "metadata": {},
   "outputs": [
    {
     "data": {
      "text/html": [
       "<div>\n",
       "<style scoped>\n",
       "    .dataframe tbody tr th:only-of-type {\n",
       "        vertical-align: middle;\n",
       "    }\n",
       "\n",
       "    .dataframe tbody tr th {\n",
       "        vertical-align: top;\n",
       "    }\n",
       "\n",
       "    .dataframe thead th {\n",
       "        text-align: right;\n",
       "    }\n",
       "</style>\n",
       "<table border=\"1\" class=\"dataframe\">\n",
       "  <thead>\n",
       "    <tr style=\"text-align: right;\">\n",
       "      <th></th>\n",
       "      <th>Title</th>\n",
       "      <th>Author_First</th>\n",
       "      <th>Author_Last</th>\n",
       "      <th>Num_Checkouts</th>\n",
       "    </tr>\n",
       "  </thead>\n",
       "  <tbody>\n",
       "    <tr>\n",
       "      <th>0</th>\n",
       "      <td>sonic the hedgehog</td>\n",
       "      <td>ian</td>\n",
       "      <td>flynn</td>\n",
       "      <td>235</td>\n",
       "    </tr>\n",
       "    <tr>\n",
       "      <th>1</th>\n",
       "      <td>babysitters little sister</td>\n",
       "      <td>katy</td>\n",
       "      <td>farina</td>\n",
       "      <td>163</td>\n",
       "    </tr>\n",
       "    <tr>\n",
       "      <th>2</th>\n",
       "      <td>if you give a pig a pancake</td>\n",
       "      <td>laura joffe</td>\n",
       "      <td>numeroff</td>\n",
       "      <td>119</td>\n",
       "    </tr>\n",
       "    <tr>\n",
       "      <th>3</th>\n",
       "      <td>beastars</td>\n",
       "      <td>paru</td>\n",
       "      <td>itagaki</td>\n",
       "      <td>114</td>\n",
       "    </tr>\n",
       "    <tr>\n",
       "      <th>4</th>\n",
       "      <td>if you give a dog a donut</td>\n",
       "      <td>laura joffe</td>\n",
       "      <td>numeroff</td>\n",
       "      <td>112</td>\n",
       "    </tr>\n",
       "  </tbody>\n",
       "</table>\n",
       "</div>"
      ],
      "text/plain": [
       "                         Title  Author_First Author_Last  Num_Checkouts\n",
       "0           sonic the hedgehog           ian       flynn            235\n",
       "1    babysitters little sister          katy      farina            163\n",
       "2  if you give a pig a pancake   laura joffe    numeroff            119\n",
       "3                     beastars          paru     itagaki            114\n",
       "4    if you give a dog a donut   laura joffe    numeroff            112"
      ]
     },
     "execution_count": 14,
     "metadata": {},
     "output_type": "execute_result"
    }
   ],
   "source": [
    "inv_df.head()"
   ]
  },
  {
   "cell_type": "code",
   "execution_count": 15,
   "id": "91b67dee",
   "metadata": {},
   "outputs": [],
   "source": [
    "from sklearn.metrics.pairwise import cosine_similarity\n",
    "from sklearn.feature_extraction.text import TfidfVectorizer\n",
    "\n",
    "import re"
   ]
  },
  {
   "cell_type": "code",
   "execution_count": 16,
   "id": "c67abfbf",
   "metadata": {},
   "outputs": [],
   "source": [
    "vectorizer = TfidfVectorizer()\n",
    "\n",
    "tfidf = vectorizer.fit_transform(inv_df['Title'])"
   ]
  },
  {
   "cell_type": "code",
   "execution_count": 17,
   "id": "ad9fe4aa",
   "metadata": {},
   "outputs": [],
   "source": [
    "def search(query,vectorizer):\n",
    "    processed = re.sub(\"[^a-zA-Z0-9 ]\", \"\", query.lower())\n",
    "    query_vec = vectorizer.transform([query])\n",
    "    similarity = cosine_similarity(query_vec, tfidf).flatten()\n",
    "    indices = np.argpartition(similarity, -10)[-10:]\n",
    "    results = inv_df.iloc[indices]\n",
    "    results = results.sort_values(\"Num_Checkouts\", ascending=False)\n",
    "    \n",
    "    return results.head(10)"
   ]
  },
  {
   "cell_type": "code",
   "execution_count": 18,
   "id": "17437a8e",
   "metadata": {},
   "outputs": [
    {
     "data": {
      "text/html": [
       "<div>\n",
       "<style scoped>\n",
       "    .dataframe tbody tr th:only-of-type {\n",
       "        vertical-align: middle;\n",
       "    }\n",
       "\n",
       "    .dataframe tbody tr th {\n",
       "        vertical-align: top;\n",
       "    }\n",
       "\n",
       "    .dataframe thead th {\n",
       "        text-align: right;\n",
       "    }\n",
       "</style>\n",
       "<table border=\"1\" class=\"dataframe\">\n",
       "  <thead>\n",
       "    <tr style=\"text-align: right;\">\n",
       "      <th></th>\n",
       "      <th>Title</th>\n",
       "      <th>Author_First</th>\n",
       "      <th>Author_Last</th>\n",
       "      <th>Num_Checkouts</th>\n",
       "    </tr>\n",
       "  </thead>\n",
       "  <tbody>\n",
       "    <tr>\n",
       "      <th>48</th>\n",
       "      <td>dog man  mothering heights</td>\n",
       "      <td>dav</td>\n",
       "      <td>pilkey</td>\n",
       "      <td>51</td>\n",
       "    </tr>\n",
       "    <tr>\n",
       "      <th>3814</th>\n",
       "      <td>the boy of the threeyear nap</td>\n",
       "      <td>dianne</td>\n",
       "      <td>snyder</td>\n",
       "      <td>6</td>\n",
       "    </tr>\n",
       "    <tr>\n",
       "      <th>3815</th>\n",
       "      <td>when turtle grew feathers  a folktale from the...</td>\n",
       "      <td>tim</td>\n",
       "      <td>tingle</td>\n",
       "      <td>6</td>\n",
       "    </tr>\n",
       "    <tr>\n",
       "      <th>3817</th>\n",
       "      <td>celebrate your feeling  the positive mindset p...</td>\n",
       "      <td>lauren</td>\n",
       "      <td>rivers</td>\n",
       "      <td>6</td>\n",
       "    </tr>\n",
       "    <tr>\n",
       "      <th>3816</th>\n",
       "      <td>the midwife murders</td>\n",
       "      <td>james</td>\n",
       "      <td>patterson</td>\n",
       "      <td>6</td>\n",
       "    </tr>\n",
       "    <tr>\n",
       "      <th>3810</th>\n",
       "      <td>bartholomew and the oobleck</td>\n",
       "      <td>dr</td>\n",
       "      <td>seuss</td>\n",
       "      <td>6</td>\n",
       "    </tr>\n",
       "    <tr>\n",
       "      <th>3811</th>\n",
       "      <td>l is for lone star  a texas alphabet</td>\n",
       "      <td>carol</td>\n",
       "      <td>crane</td>\n",
       "      <td>6</td>\n",
       "    </tr>\n",
       "    <tr>\n",
       "      <th>3813</th>\n",
       "      <td>mary howitts the spider and the fly</td>\n",
       "      <td>mary botham</td>\n",
       "      <td>howitt</td>\n",
       "      <td>6</td>\n",
       "    </tr>\n",
       "    <tr>\n",
       "      <th>3812</th>\n",
       "      <td>and the mountains echoed</td>\n",
       "      <td>khaled</td>\n",
       "      <td>hosseini</td>\n",
       "      <td>6</td>\n",
       "    </tr>\n",
       "    <tr>\n",
       "      <th>11437</th>\n",
       "      <td>north or be eaten</td>\n",
       "      <td>andrew</td>\n",
       "      <td>peterson</td>\n",
       "      <td>1</td>\n",
       "    </tr>\n",
       "  </tbody>\n",
       "</table>\n",
       "</div>"
      ],
      "text/plain": [
       "                                                   Title  Author_First  \\\n",
       "48                            dog man  mothering heights           dav   \n",
       "3814                        the boy of the threeyear nap        dianne   \n",
       "3815   when turtle grew feathers  a folktale from the...           tim   \n",
       "3817   celebrate your feeling  the positive mindset p...        lauren   \n",
       "3816                                 the midwife murders         james   \n",
       "3810                         bartholomew and the oobleck            dr   \n",
       "3811                l is for lone star  a texas alphabet         carol   \n",
       "3813                 mary howitts the spider and the fly   mary botham   \n",
       "3812                            and the mountains echoed        khaled   \n",
       "11437                                  north or be eaten        andrew   \n",
       "\n",
       "      Author_Last  Num_Checkouts  \n",
       "48         pilkey             51  \n",
       "3814       snyder              6  \n",
       "3815       tingle              6  \n",
       "3817       rivers              6  \n",
       "3816    patterson              6  \n",
       "3810        seuss              6  \n",
       "3811        crane              6  \n",
       "3813       howitt              6  \n",
       "3812     hosseini              6  \n",
       "11437    peterson              1  "
      ]
     },
     "execution_count": 18,
     "metadata": {},
     "output_type": "execute_result"
    }
   ],
   "source": [
    "search('wuthering heights', vectorizer)"
   ]
  },
  {
   "cell_type": "code",
   "execution_count": 19,
   "id": "75b5ff90",
   "metadata": {},
   "outputs": [],
   "source": [
    "harry_potter_user = [101, 155, 674]\n",
    "magic_school_bus_user = [1772, 2242, 3952, 7935]\n",
    "classics_user = [1448, 4240, 10433, 2510]"
   ]
  },
  {
   "cell_type": "code",
   "execution_count": 20,
   "id": "be0d5ebf",
   "metadata": {},
   "outputs": [],
   "source": [
    "def get_reccs(item_list):\n",
    "    id = iti.add_actor(item_list)\n",
    "    pairs = get_patron_pairs(id)\n",
    "    feats = [get_feat_vec(pair) for pair in pairs]\n",
    "    \n",
    "    return feats"
   ]
  },
  {
   "cell_type": "code",
   "execution_count": 21,
   "id": "3387d400",
   "metadata": {},
   "outputs": [
    {
     "ename": "KeyError",
     "evalue": "13742",
     "output_type": "error",
     "traceback": [
      "\u001b[1;31m---------------------------------------------------------------------------\u001b[0m",
      "\u001b[1;31mKeyError\u001b[0m                                  Traceback (most recent call last)",
      "Input \u001b[1;32mIn [21]\u001b[0m, in \u001b[0;36m<cell line: 1>\u001b[1;34m()\u001b[0m\n\u001b[1;32m----> 1\u001b[0m \u001b[43mget_reccs\u001b[49m\u001b[43m(\u001b[49m\u001b[43mharry_potter_user\u001b[49m\u001b[43m)\u001b[49m\n",
      "Input \u001b[1;32mIn [20]\u001b[0m, in \u001b[0;36mget_reccs\u001b[1;34m(item_list)\u001b[0m\n\u001b[0;32m      2\u001b[0m \u001b[38;5;28mid\u001b[39m \u001b[38;5;241m=\u001b[39m iti\u001b[38;5;241m.\u001b[39madd_actor(item_list)\n\u001b[0;32m      3\u001b[0m pairs \u001b[38;5;241m=\u001b[39m get_patron_pairs(\u001b[38;5;28mid\u001b[39m)\n\u001b[1;32m----> 4\u001b[0m feats \u001b[38;5;241m=\u001b[39m [get_feat_vec(pair) \u001b[38;5;28;01mfor\u001b[39;00m pair \u001b[38;5;129;01min\u001b[39;00m pairs]\n\u001b[0;32m      6\u001b[0m \u001b[38;5;28;01mreturn\u001b[39;00m feats\n",
      "Input \u001b[1;32mIn [20]\u001b[0m, in \u001b[0;36m<listcomp>\u001b[1;34m(.0)\u001b[0m\n\u001b[0;32m      2\u001b[0m \u001b[38;5;28mid\u001b[39m \u001b[38;5;241m=\u001b[39m iti\u001b[38;5;241m.\u001b[39madd_actor(item_list)\n\u001b[0;32m      3\u001b[0m pairs \u001b[38;5;241m=\u001b[39m get_patron_pairs(\u001b[38;5;28mid\u001b[39m)\n\u001b[1;32m----> 4\u001b[0m feats \u001b[38;5;241m=\u001b[39m [\u001b[43mget_feat_vec\u001b[49m\u001b[43m(\u001b[49m\u001b[43mpair\u001b[49m\u001b[43m)\u001b[49m \u001b[38;5;28;01mfor\u001b[39;00m pair \u001b[38;5;129;01min\u001b[39;00m pairs]\n\u001b[0;32m      6\u001b[0m \u001b[38;5;28;01mreturn\u001b[39;00m feats\n",
      "Input \u001b[1;32mIn [5]\u001b[0m, in \u001b[0;36mget_feat_vec\u001b[1;34m(pair)\u001b[0m\n\u001b[0;32m     27\u001b[0m patron_read \u001b[38;5;241m=\u001b[39m ptp\u001b[38;5;241m.\u001b[39mget_objects(item)\n\u001b[0;32m     29\u001b[0m \u001b[38;5;28;01mfor\u001b[39;00m patron_id \u001b[38;5;129;01min\u001b[39;00m patron_read:\n\u001b[1;32m---> 30\u001b[0m     sim_score \u001b[38;5;241m=\u001b[39m \u001b[43mptp\u001b[49m\u001b[38;5;241;43m.\u001b[39;49m\u001b[43mjaccard\u001b[49m\u001b[43m(\u001b[49m\u001b[43mpatron\u001b[49m\u001b[43m,\u001b[49m\u001b[43m \u001b[49m\u001b[43mpatron_id\u001b[49m\u001b[43m)\u001b[49m\n\u001b[0;32m     31\u001b[0m     \u001b[38;5;28;01mif\u001b[39;00m sim_score \u001b[38;5;241m>\u001b[39m \u001b[38;5;28mmax\u001b[39m:\n\u001b[0;32m     32\u001b[0m         \u001b[38;5;28mmax\u001b[39m \u001b[38;5;241m=\u001b[39m sim_score\n",
      "File \u001b[1;32m~\\Desktop\\HRP\\Code\\Project_3\\ObjectToObjectRecommender.py:27\u001b[0m, in \u001b[0;36mObjectToObjectRecommender.jaccard\u001b[1;34m(self, object1, object2)\u001b[0m\n\u001b[0;32m     26\u001b[0m \u001b[38;5;28;01mdef\u001b[39;00m \u001b[38;5;21mjaccard\u001b[39m(\u001b[38;5;28mself\u001b[39m, object1, object2):\n\u001b[1;32m---> 27\u001b[0m     list1 \u001b[38;5;241m=\u001b[39m \u001b[38;5;28;43mself\u001b[39;49m\u001b[38;5;241;43m.\u001b[39;49m\u001b[43mactors_by_object\u001b[49m\u001b[43m[\u001b[49m\u001b[43mobject1\u001b[49m\u001b[43m]\u001b[49m\n\u001b[0;32m     28\u001b[0m     list2 \u001b[38;5;241m=\u001b[39m \u001b[38;5;28mself\u001b[39m\u001b[38;5;241m.\u001b[39mactors_by_object[object2]\n\u001b[0;32m     30\u001b[0m     \u001b[38;5;28;01mreturn\u001b[39;00m \u001b[38;5;28mlen\u001b[39m(\u001b[38;5;28mself\u001b[39m\u001b[38;5;241m.\u001b[39mintersect(list1, list2)) \u001b[38;5;241m/\u001b[39m \u001b[38;5;28mlen\u001b[39m(\u001b[38;5;28mself\u001b[39m\u001b[38;5;241m.\u001b[39munion(list1, list2))\n",
      "\u001b[1;31mKeyError\u001b[0m: 13742"
     ]
    }
   ],
   "source": [
    "get_reccs(harry_potter_user)"
   ]
  }
 ],
 "metadata": {
  "kernelspec": {
   "display_name": "Python 3 (ipykernel)",
   "language": "python",
   "name": "python3"
  },
  "language_info": {
   "codemirror_mode": {
    "name": "ipython",
    "version": 3
   },
   "file_extension": ".py",
   "mimetype": "text/x-python",
   "name": "python",
   "nbconvert_exporter": "python",
   "pygments_lexer": "ipython3",
   "version": "3.9.12"
  }
 },
 "nbformat": 4,
 "nbformat_minor": 5
}
