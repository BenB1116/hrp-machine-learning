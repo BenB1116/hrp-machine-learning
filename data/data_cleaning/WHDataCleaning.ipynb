{
 "cells": [
  {
   "cell_type": "code",
   "execution_count": 1,
   "id": "64629601",
   "metadata": {},
   "outputs": [],
   "source": [
    "import pandas as pd"
   ]
  },
  {
   "cell_type": "code",
   "execution_count": 2,
   "id": "109c76a2",
   "metadata": {},
   "outputs": [],
   "source": [
    "# URLs for the data\n",
    "patron_path = r'C:\\Users\\Ben\\IdeaProjects\\hrp-machine-learning\\data\\wh_data\\Patron_Checkouts.xlsx'\n",
    "\n",
    "patron_df = pd.read_excel(patron_path)"
   ]
  },
  {
   "cell_type": "code",
   "execution_count": 3,
   "id": "27f93d29",
   "metadata": {
    "scrolled": true
   },
   "outputs": [
    {
     "name": "stdout",
     "output_type": "stream",
     "text": [
      "90878\n"
     ]
    },
    {
     "data": {
      "text/html": [
       "<div>\n",
       "<style scoped>\n",
       "    .dataframe tbody tr th:only-of-type {\n",
       "        vertical-align: middle;\n",
       "    }\n",
       "\n",
       "    .dataframe tbody tr th {\n",
       "        vertical-align: top;\n",
       "    }\n",
       "\n",
       "    .dataframe thead th {\n",
       "        text-align: right;\n",
       "    }\n",
       "</style>\n",
       "<table border=\"1\" class=\"dataframe\">\n",
       "  <thead>\n",
       "    <tr style=\"text-align: right;\">\n",
       "      <th></th>\n",
       "      <th>Patron Barcode</th>\n",
       "      <th>Title</th>\n",
       "      <th>Author's Name</th>\n",
       "      <th>Holdings Barcode</th>\n",
       "      <th>Date of Action</th>\n",
       "      <th>Unnamed: 5</th>\n",
       "      <th>Unnamed: 6</th>\n",
       "    </tr>\n",
       "  </thead>\n",
       "  <tbody>\n",
       "    <tr>\n",
       "      <th>0</th>\n",
       "      <td>10010</td>\n",
       "      <td>Of mice and men</td>\n",
       "      <td>Steinbeck, John,</td>\n",
       "      <td>120181</td>\n",
       "      <td>01/19/2021 03:57:26PM</td>\n",
       "      <td>NaN</td>\n",
       "      <td>NaN</td>\n",
       "    </tr>\n",
       "    <tr>\n",
       "      <th>1</th>\n",
       "      <td>10010</td>\n",
       "      <td>ILL - The truth at daybreak</td>\n",
       "      <td>Torockio, Christopher</td>\n",
       "      <td>90000718</td>\n",
       "      <td>03/11/2021 12:19:29PM</td>\n",
       "      <td>NaN</td>\n",
       "      <td>NaN</td>\n",
       "    </tr>\n",
       "    <tr>\n",
       "      <th>2</th>\n",
       "      <td>10010</td>\n",
       "      <td>ILL - The truth at daybreak</td>\n",
       "      <td>Torockio, Christopher</td>\n",
       "      <td>90000718</td>\n",
       "      <td>04/08/2021 04:24:14PM</td>\n",
       "      <td>NaN</td>\n",
       "      <td>NaN</td>\n",
       "    </tr>\n",
       "    <tr>\n",
       "      <th>3</th>\n",
       "      <td>10041</td>\n",
       "      <td>The unforgotten : a novel</td>\n",
       "      <td>Powell, Laura</td>\n",
       "      <td>123448</td>\n",
       "      <td>05/01/2021 11:43:20AM</td>\n",
       "      <td>NaN</td>\n",
       "      <td>NaN</td>\n",
       "    </tr>\n",
       "    <tr>\n",
       "      <th>4</th>\n",
       "      <td>10041</td>\n",
       "      <td>Star Wars, the clone wars.</td>\n",
       "      <td>Hibbert, Clare,</td>\n",
       "      <td>131727</td>\n",
       "      <td>05/01/2021 11:43:22AM</td>\n",
       "      <td>NaN</td>\n",
       "      <td>NaN</td>\n",
       "    </tr>\n",
       "  </tbody>\n",
       "</table>\n",
       "</div>"
      ],
      "text/plain": [
       "   Patron Barcode                        Title          Author's Name  \\\n",
       "0           10010              Of mice and men       Steinbeck, John,   \n",
       "1           10010  ILL - The truth at daybreak  Torockio, Christopher   \n",
       "2           10010  ILL - The truth at daybreak  Torockio, Christopher   \n",
       "3           10041    The unforgotten : a novel          Powell, Laura   \n",
       "4           10041   Star Wars, the clone wars.        Hibbert, Clare,   \n",
       "\n",
       "  Holdings Barcode         Date of Action Unnamed: 5 Unnamed: 6  \n",
       "0           120181  01/19/2021 03:57:26PM        NaN        NaN  \n",
       "1         90000718  03/11/2021 12:19:29PM        NaN        NaN  \n",
       "2         90000718  04/08/2021 04:24:14PM        NaN        NaN  \n",
       "3           123448  05/01/2021 11:43:20AM        NaN        NaN  \n",
       "4           131727  05/01/2021 11:43:22AM        NaN        NaN  "
      ]
     },
     "execution_count": 3,
     "metadata": {},
     "output_type": "execute_result"
    }
   ],
   "source": [
    "print(len(patron_df))\n",
    "patron_df.head()"
   ]
  },
  {
   "cell_type": "code",
   "execution_count": 4,
   "id": "abce7c68",
   "metadata": {
    "scrolled": true
   },
   "outputs": [],
   "source": [
    "# Remove entries that flow into extra columns\n",
    "patron_df_trim = patron_df[patron_df['Unnamed: 5'].isnull()]\n",
    "patron_df_trim = patron_df[patron_df['Unnamed: 6'].isnull()]\n",
    "\n",
    "# Remove extra columns and rename remaining columns\n",
    "patron_df_trim = patron_df.drop(columns=['Holdings Barcode', 'Date of Action', 'Unnamed: 5', 'Unnamed: 6'])\n",
    "patron_df_trim = patron_df_trim.rename(columns={'Patron Barcode': 'patron_id', 'Title': 'title', 'Author\\'s Name': 'author'})"
   ]
  },
  {
   "cell_type": "code",
   "execution_count": 5,
   "id": "12a0d5b5",
   "metadata": {},
   "outputs": [],
   "source": [
    "# Drop entries with null values\n",
    "patron_df_trim = patron_df_trim.dropna()"
   ]
  },
  {
   "cell_type": "code",
   "execution_count": 6,
   "id": "714de0c3",
   "metadata": {},
   "outputs": [],
   "source": [
    "# Split mutiple authors on ; and author first and last on ,\n",
    "patron_df_trim['author'] = patron_df_trim['author'].str.split(';', expand=True)[0]\n",
    "patron_df_split = patron_df_trim\n",
    "\n",
    "patron_df_split['author_last'] = patron_df_split['author'].str.split(',', expand=True)[0]\n",
    "patron_df_split['author_first'] = patron_df_split['author'].str.split(',', expand=True)[1]\n",
    "\n",
    "patron_df_split = patron_df_split.drop(columns = ['author'])"
   ]
  },
  {
   "cell_type": "code",
   "execution_count": 7,
   "id": "b2d8f5ab",
   "metadata": {
    "scrolled": true
   },
   "outputs": [
    {
     "data": {
      "text/html": [
       "<div>\n",
       "<style scoped>\n",
       "    .dataframe tbody tr th:only-of-type {\n",
       "        vertical-align: middle;\n",
       "    }\n",
       "\n",
       "    .dataframe tbody tr th {\n",
       "        vertical-align: top;\n",
       "    }\n",
       "\n",
       "    .dataframe thead th {\n",
       "        text-align: right;\n",
       "    }\n",
       "</style>\n",
       "<table border=\"1\" class=\"dataframe\">\n",
       "  <thead>\n",
       "    <tr style=\"text-align: right;\">\n",
       "      <th></th>\n",
       "      <th>patron_id</th>\n",
       "      <th>title</th>\n",
       "      <th>author_last</th>\n",
       "      <th>author_first</th>\n",
       "    </tr>\n",
       "  </thead>\n",
       "  <tbody>\n",
       "    <tr>\n",
       "      <th>0</th>\n",
       "      <td>10010</td>\n",
       "      <td>Of mice and men</td>\n",
       "      <td>Steinbeck</td>\n",
       "      <td>John</td>\n",
       "    </tr>\n",
       "    <tr>\n",
       "      <th>1</th>\n",
       "      <td>10010</td>\n",
       "      <td>ILL - The truth at daybreak</td>\n",
       "      <td>Torockio</td>\n",
       "      <td>Christopher</td>\n",
       "    </tr>\n",
       "    <tr>\n",
       "      <th>2</th>\n",
       "      <td>10010</td>\n",
       "      <td>ILL - The truth at daybreak</td>\n",
       "      <td>Torockio</td>\n",
       "      <td>Christopher</td>\n",
       "    </tr>\n",
       "    <tr>\n",
       "      <th>3</th>\n",
       "      <td>10041</td>\n",
       "      <td>The unforgotten : a novel</td>\n",
       "      <td>Powell</td>\n",
       "      <td>Laura</td>\n",
       "    </tr>\n",
       "    <tr>\n",
       "      <th>4</th>\n",
       "      <td>10041</td>\n",
       "      <td>Star Wars, the clone wars.</td>\n",
       "      <td>Hibbert</td>\n",
       "      <td>Clare</td>\n",
       "    </tr>\n",
       "  </tbody>\n",
       "</table>\n",
       "</div>"
      ],
      "text/plain": [
       "   patron_id                        title author_last  author_first\n",
       "0      10010              Of mice and men   Steinbeck          John\n",
       "1      10010  ILL - The truth at daybreak    Torockio   Christopher\n",
       "2      10010  ILL - The truth at daybreak    Torockio   Christopher\n",
       "3      10041    The unforgotten : a novel      Powell         Laura\n",
       "4      10041   Star Wars, the clone wars.     Hibbert         Clare"
      ]
     },
     "execution_count": 7,
     "metadata": {},
     "output_type": "execute_result"
    }
   ],
   "source": [
    "patron_df_split.head()"
   ]
  },
  {
   "cell_type": "code",
   "execution_count": 8,
   "id": "43d22b10",
   "metadata": {},
   "outputs": [
    {
     "data": {
      "text/plain": [
       "76211"
      ]
     },
     "execution_count": 8,
     "metadata": {},
     "output_type": "execute_result"
    }
   ],
   "source": [
    "patron_df_split = patron_df_split.dropna()\n",
    "len(patron_df_split)"
   ]
  },
  {
   "cell_type": "code",
   "execution_count": 9,
   "id": "aff287b9",
   "metadata": {},
   "outputs": [],
   "source": [
    "# Drop ILL entries\n",
    "patron_df_split = patron_df_split[patron_df_split['title'].str.contains('ILL') == False]"
   ]
  },
  {
   "cell_type": "code",
   "execution_count": 10,
   "id": "934bcb03",
   "metadata": {},
   "outputs": [],
   "source": [
    "# Convert all strings to lowercase\n",
    "patron_df_split['title'] = patron_df_split['title'].str.lower()\n",
    "patron_df_split['author_last'] = patron_df_split['author_last'].str.lower()\n",
    "patron_df_split['author_first'] = patron_df_split['author_first'].str.lower()"
   ]
  },
  {
   "cell_type": "code",
   "execution_count": 11,
   "id": "1974cbb0",
   "metadata": {
    "scrolled": true
   },
   "outputs": [
    {
     "data": {
      "text/html": [
       "<div>\n",
       "<style scoped>\n",
       "    .dataframe tbody tr th:only-of-type {\n",
       "        vertical-align: middle;\n",
       "    }\n",
       "\n",
       "    .dataframe tbody tr th {\n",
       "        vertical-align: top;\n",
       "    }\n",
       "\n",
       "    .dataframe thead th {\n",
       "        text-align: right;\n",
       "    }\n",
       "</style>\n",
       "<table border=\"1\" class=\"dataframe\">\n",
       "  <thead>\n",
       "    <tr style=\"text-align: right;\">\n",
       "      <th></th>\n",
       "      <th>patron_id</th>\n",
       "      <th>title</th>\n",
       "      <th>author_last</th>\n",
       "      <th>author_first</th>\n",
       "    </tr>\n",
       "  </thead>\n",
       "  <tbody>\n",
       "    <tr>\n",
       "      <th>0</th>\n",
       "      <td>10010</td>\n",
       "      <td>of mice and men</td>\n",
       "      <td>steinbeck</td>\n",
       "      <td>john</td>\n",
       "    </tr>\n",
       "    <tr>\n",
       "      <th>3</th>\n",
       "      <td>10041</td>\n",
       "      <td>the unforgotten : a novel</td>\n",
       "      <td>powell</td>\n",
       "      <td>laura</td>\n",
       "    </tr>\n",
       "    <tr>\n",
       "      <th>4</th>\n",
       "      <td>10041</td>\n",
       "      <td>star wars, the clone wars.</td>\n",
       "      <td>hibbert</td>\n",
       "      <td>clare</td>\n",
       "    </tr>\n",
       "    <tr>\n",
       "      <th>5</th>\n",
       "      <td>10041</td>\n",
       "      <td>star wars, the clone wars.</td>\n",
       "      <td>beecroft</td>\n",
       "      <td>simon.</td>\n",
       "    </tr>\n",
       "    <tr>\n",
       "      <th>7</th>\n",
       "      <td>10041</td>\n",
       "      <td>wow! : the pop-up book of sports</td>\n",
       "      <td>foster</td>\n",
       "      <td>bruce.</td>\n",
       "    </tr>\n",
       "  </tbody>\n",
       "</table>\n",
       "</div>"
      ],
      "text/plain": [
       "   patron_id                             title author_last author_first\n",
       "0      10010                   of mice and men   steinbeck         john\n",
       "3      10041         the unforgotten : a novel      powell        laura\n",
       "4      10041        star wars, the clone wars.     hibbert        clare\n",
       "5      10041        star wars, the clone wars.    beecroft       simon.\n",
       "7      10041  wow! : the pop-up book of sports      foster       bruce."
      ]
     },
     "execution_count": 11,
     "metadata": {},
     "output_type": "execute_result"
    }
   ],
   "source": [
    "patron_df_split.head()"
   ]
  },
  {
   "cell_type": "code",
   "execution_count": 12,
   "id": "0440896e",
   "metadata": {
    "scrolled": true
   },
   "outputs": [],
   "source": [
    "# Remove all special characters\n",
    "patron_df_split['title'] = patron_df_split['title'].str.replace('[^a-z]', ' ', regex = True)\n",
    "patron_df_split['author_last'] = patron_df_split['author_last'].str.replace('[^a-z]', ' ', regex = True)\n",
    "patron_df_split['author_first'] = patron_df_split['author_first'].str.replace('[^a-z]', ' ', regex = True)\n",
    "\n",
    "# Remove repeated white space\n",
    "patron_df_split['title'] = patron_df_split['title'].replace(r'\\s+', ' ', regex=True)\n",
    "patron_df_split['author_last'] = patron_df_split['author_last'].replace(r'\\s+', ' ', regex=True)\n",
    "patron_df_split['author_first'] = patron_df_split['author_first'].replace(r'\\s+', ' ', regex=True)"
   ]
  },
  {
   "cell_type": "code",
   "execution_count": 13,
   "id": "1f3fd4cb",
   "metadata": {},
   "outputs": [],
   "source": [
    "# Assign each patron a new id\n",
    "patron_list = list(set(patron_df_split['patron_id'].tolist()))\n",
    "ids = {patron: i for i, patron in enumerate(patron_list)}\n",
    "\n",
    "patron_df_id = patron_df_split.replace({'patron_id': ids})"
   ]
  },
  {
   "cell_type": "code",
   "execution_count": 14,
   "id": "a31b786e",
   "metadata": {},
   "outputs": [],
   "source": [
    "# Create and inventory df\n",
    "inv_df = patron_df_id[['title', 'author_last', 'author_first']]\n",
    "inv_df = inv_df.drop_duplicates()"
   ]
  },
  {
   "cell_type": "code",
   "execution_count": 15,
   "id": "abb05e54",
   "metadata": {},
   "outputs": [],
   "source": [
    "# Reset the index of inv_df to be 0 based\n",
    "inv_df = inv_df.reset_index().drop(columns = ['index'])"
   ]
  },
  {
   "cell_type": "code",
   "execution_count": 16,
   "id": "30133c30",
   "metadata": {},
   "outputs": [],
   "source": [
    "# Swap out book info for index stored in inv_df\n",
    "patron_df_id = pd.merge(patron_df_id, inv_df.reset_index())\n",
    "patron_df = patron_df_id.drop(columns = ['title', 'author_last', 'author_first'])\n",
    "patron_df = patron_df.rename(columns = {'index': 'item_id'})"
   ]
  },
  {
   "cell_type": "code",
   "execution_count": 17,
   "id": "e6aedaee",
   "metadata": {},
   "outputs": [],
   "source": [
    "patron_df.to_csv(r'C:\\Users\\Ben\\IdeaProjects\\hrp-machine-learning\\data\\clean_data\\patron_data.csv')\n",
    "inv_df.to_csv(r'C:\\Users\\Ben\\IdeaProjects\\hrp-machine-learning\\data\\clean_data\\inv_data.csv')"
   ]
  }
 ],
 "metadata": {
  "kernelspec": {
   "display_name": "Python 3 (ipykernel)",
   "language": "python",
   "name": "python3"
  },
  "language_info": {
   "codemirror_mode": {
    "name": "ipython",
    "version": 3
   },
   "file_extension": ".py",
   "mimetype": "text/x-python",
   "name": "python",
   "nbconvert_exporter": "python",
   "pygments_lexer": "ipython3",
   "version": "3.11.0"
  },
  "vscode": {
   "interpreter": {
    "hash": "c261aea317cc0286b3b3261fbba9abdec21eaa57589985bb7a274bf54d6cc0a7"
   }
  }
 },
 "nbformat": 4,
 "nbformat_minor": 5
}
