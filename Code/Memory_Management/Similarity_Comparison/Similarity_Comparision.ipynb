{
 "cells": [
  {
   "cell_type": "markdown",
   "metadata": {},
   "source": [
    "# Memory Management Comparision\n",
    "\n",
    "The purpose of this program is to measure the similarity of the various memory management recommendation functions."
   ]
  },
  {
   "cell_type": "markdown",
   "metadata": {},
   "source": [
    "### Prelimary Work"
   ]
  },
  {
   "cell_type": "code",
   "execution_count": 1,
   "metadata": {},
   "outputs": [],
   "source": [
    "#Import packages\n",
    "import pandas as pd\n",
    "import numpy as np\n",
    "import math\n",
    "import collections\n",
    "import random"
   ]
  },
  {
   "cell_type": "code",
   "execution_count": 2,
   "metadata": {},
   "outputs": [],
   "source": [
    "#Github URLs\n",
    "patron_url = 'https://github.com/BenB1116/hrp-machine-learning/blob/master/Data/Clean_Data/Clean_Patron.csv?raw=true'\n",
    "inventory_url = 'https://github.com/BenB1116/hrp-machine-learning/blob/master/Data/Clean_Data/Clean_Inventory.csv?raw=true'\n",
    "\n",
    "#Import and convert csv files\n",
    "raw_patron_df = pd.read_csv(patron_url)\n",
    "raw_inventory_df = pd.read_csv(inventory_url)"
   ]
  },
  {
   "cell_type": "code",
   "execution_count": 3,
   "metadata": {},
   "outputs": [
    {
     "name": "stdout",
     "output_type": "stream",
     "text": [
      "The length of patron_df is: 74729\n",
      "The length of inventory_df is: 11438\n"
     ]
    }
   ],
   "source": [
    "#Create a copy of DataFrames\n",
    "patron_df = raw_patron_df.copy()\n",
    "inventory_df = raw_inventory_df.copy()\n",
    "\n",
    "print(f'The length of patron_df is: {len(patron_df)}')\n",
    "print(f'The length of inventory_df is: {len(inventory_df)}')"
   ]
  },
  {
   "cell_type": "code",
   "execution_count": 4,
   "metadata": {},
   "outputs": [
    {
     "name": "stdout",
     "output_type": "stream",
     "text": [
      "   Patron_ID  Item_ID\n",
      "0      10010     4240\n",
      "1      13341     4240\n",
      "2      13341     4240\n",
      "                         Title  Author_First Author_Last  Num_Checkouts\n",
      "0           sonic the hedgehog           ian       flynn            235\n",
      "1    babysitters little sister          katy      farina            163\n",
      "2  if you give a pig a pancake   laura joffe    numeroff            119\n"
     ]
    }
   ],
   "source": [
    "# Drop random columns\n",
    "patron_df.drop(columns = 'Unnamed: 0', inplace = True)\n",
    "inventory_df.drop(columns = 'Unnamed: 0', inplace = True)\n",
    "\n",
    "print(patron_df.head(3))\n",
    "print(inventory_df.head(3))"
   ]
  },
  {
   "cell_type": "markdown",
   "metadata": {},
   "source": [
    "### Data Manipulation"
   ]
  },
  {
   "cell_type": "code",
   "execution_count": 5,
   "metadata": {},
   "outputs": [
    {
     "data": {
      "text/plain": [
       "11438"
      ]
     },
     "execution_count": 5,
     "metadata": {},
     "output_type": "execute_result"
    }
   ],
   "source": [
    "# Create a patrons by items dictionary\n",
    "item_ids = inventory_df.index\n",
    "patrons_by_item = {item_id: set(patron_df[patron_df['Item_ID'] == item_id]['Patron_ID'].values) for item_id in item_ids}\n",
    "\n",
    "len(patrons_by_item)"
   ]
  },
  {
   "cell_type": "code",
   "execution_count": 6,
   "metadata": {},
   "outputs": [],
   "source": [
    "# Set Operations\n",
    "\n",
    "# Union\n",
    "#Takes the union of any two patron arrays given the item ids\n",
    "def union(item1, item2):\n",
    "    return set.union(patrons_by_item[item1], patrons_by_item[item2])\n",
    "\n",
    "# Intersection\n",
    "#Takes the intersection of any two patron arrays give the item id\n",
    "def intersect(item1, item2):\n",
    "    return set.intersection(patrons_by_item[item1], patrons_by_item[item2])"
   ]
  },
  {
   "cell_type": "code",
   "execution_count": 7,
   "metadata": {},
   "outputs": [],
   "source": [
    "# Similarity Functions\n",
    "\n",
    "#Naive Similarity\n",
    "def naive_similarity(item1, item2):\n",
    "    return len(intersect(item1, item2))\n",
    "\n",
    "# Jaccard Similarity\n",
    "def jaccard_similarity(item1, item2):\n",
    "    return len(intersect(item1, item2)) / len(union(item1, item2))\n",
    "\n",
    "# Cosine Similarity\n",
    "def cosine_similarity(item1, item2):\n",
    "    num = len(intersect(item1, item2))\n",
    "    dem = math.sqrt(len(patrons_by_item[item1]) * len(patrons_by_item[item2]))\n",
    "    \n",
    "    return  num / dem"
   ]
  },
  {
   "cell_type": "code",
   "execution_count": 8,
   "metadata": {},
   "outputs": [],
   "source": [
    "# Most Similar Items List Generation\n",
    "\n",
    "# Calculaltes similarity between an item and all items\n",
    "def get_sims(item, fun):\n",
    "    return {item_id : fun(item, item_id) for item_id in item_ids}\n",
    "\n",
    "# Returns the top n similar items to item using any function\n",
    "def get_top_n(item, n, fun):\n",
    "    all_sims = get_sims(item, fun)\n",
    "    #Sort the dictionary by values and creates a list of keys\n",
    "    sorted_sims = list({item_id: sim for item_id, sim in sorted(all_sims.items(), key = lambda item: item[1], reverse = True)}.keys())\n",
    "\n",
    "    return set(sorted_sims[1:n + 1])"
   ]
  },
  {
   "cell_type": "code",
   "execution_count": 9,
   "metadata": {},
   "outputs": [],
   "source": [
    "# Sim to Sim Comparision\n",
    "\n",
    "# Returns the how similar any two similarity functions are\n",
    "def inv_sim_to_sim(item, n, fun1, fun2):\n",
    "    fun1_top = get_top_n(item, n, fun1)\n",
    "    fun2_top = get_top_n(item, n, fun2)\n",
    "\n",
    "    num = len(set.intersection(fun1_top, fun2_top))\n",
    "\n",
    "    return num / n\n",
    "\n",
    "# Randomly samples a list of item ids to do a sim to sim comparision and takes the average\n",
    "def samp_avg_sim_to_sim(n, approx, fun1, fun2):\n",
    "    sum = 0\n",
    "    ran_ids = random.sample(range(0, len(item_ids)), approx)\n",
    "\n",
    "    for item in ran_ids:\n",
    "        sum += inv_sim_to_sim(item, n, fun1, fun2)\n",
    "\n",
    "    return sum / approx\n",
    "\n",
    "# This takes about 3.5 minutes to run\n",
    "# Takes the avg sim to sim similarity across the entire database\n",
    "def avg_sim_to_sim(n, fun1, fun2):\n",
    "    sum = 0\n",
    "\n",
    "    for item in item_ids:\n",
    "        sum += inv_sim_to_sim(item, n, fun1, fun2)\n",
    "\n",
    "    return sum / len(item_ids)"
   ]
  },
  {
   "cell_type": "code",
   "execution_count": 15,
   "metadata": {},
   "outputs": [
    {
     "name": "stdout",
     "output_type": "stream",
     "text": [
      "3302\n"
     ]
    }
   ],
   "source": [
    "# Avg Number of Valid Comparisions\n",
    "\n",
    "# Returns the number of valid entries given a sim function and item\n",
    "# A valid entry is any entry with a similarity score greater than 0\n",
    "def get_num_valid(item, fun):\n",
    "    sim_scores = list(get_sims(item, fun).values())\n",
    "    scores = np.array(sim_scores)\n",
    "\n",
    "    scores = scores[scores > 0]\n",
    "    \n",
    "    return len(scores)\n",
    "\n",
    "#Takes about 2.5 minutes to run\n",
    "#Takes the avg number of valid entryies for an entire function\n",
    "def avg_valid(fun):\n",
    "    sum = 0\n",
    "\n",
    "    for item_id in item_ids:\n",
    "        sum += get_num_valid(item_id, fun)\n",
    "\n",
    "    return sum / len(item_ids)"
   ]
  },
  {
   "cell_type": "markdown",
   "metadata": {},
   "source": [
    "### Output"
   ]
  },
  {
   "cell_type": "code",
   "execution_count": 11,
   "metadata": {},
   "outputs": [],
   "source": [
    "# This take 10 minutes to run\n",
    "# naive_to_jacc = avg_sim_to_sim(5, naive_similarity, jaccard_similarity)\n",
    "# jacc_to_cos = avg_sim_to_sim(5, jaccard_similarity, cosine_similarity)\n",
    "# cos_to_naive = avg_sim_to_sim(5, cosine_similarity, naive_similarity)\n",
    "\n",
    "# I went ahead and ran the code above\n",
    "naive_to_jacc = 0.1169610071690865\n",
    "jacc_to_cos = 0.9331876202133261\n",
    "cos_to_naive = 0.10526315789473722\n",
    "\n",
    "# Round to 2 decimals\n",
    "nj_percent = \"{:.2f}\".format(round(naive_to_jacc * 100, 2))\n",
    "jc_percent = \"{:.2f}\".format(round(jacc_to_cos * 100, 2))\n",
    "cn_percent = \"{:.2f}\".format(round(cos_to_naive * 100, 2))"
   ]
  },
  {
   "cell_type": "code",
   "execution_count": 12,
   "metadata": {},
   "outputs": [],
   "source": [
    "# Only need to run for 1 since all others are the same\n",
    "# avg_valid(jaccard_similarity)\n",
    "\n",
    "# I went ahead and ran the code above\n",
    "avg_num_of_valid = int(416.35093547823044)"
   ]
  },
  {
   "cell_type": "code",
   "execution_count": 13,
   "metadata": {},
   "outputs": [
    {
     "name": "stdout",
     "output_type": "stream",
     "text": [
      "On average the Naive method and Jaccard method share 11.70% elements\n",
      "On average the Jaccard method and Cosine method share 93.32% elements\n",
      "On average the Cosine method and Naive method share 10.53% elements\n",
      "\n",
      "On average the simlarities give 416 valid entries\n"
     ]
    }
   ],
   "source": [
    "print(f'On average the Naive method and Jaccard method share {nj_percent}% elements')\n",
    "print(f'On average the Jaccard method and Cosine method share {jc_percent}% elements')\n",
    "print(f'On average the Cosine method and Naive method share {cn_percent}% elements')\n",
    "print()\n",
    "print(f'On average the simlarities give {avg_num_of_valid} valid entries')"
   ]
  }
 ],
 "metadata": {
  "kernelspec": {
   "display_name": "Python 3.9.12 ('base')",
   "language": "python",
   "name": "python3"
  },
  "language_info": {
   "codemirror_mode": {
    "name": "ipython",
    "version": 3
   },
   "file_extension": ".py",
   "mimetype": "text/x-python",
   "name": "python",
   "nbconvert_exporter": "python",
   "pygments_lexer": "ipython3",
   "version": "3.9.12"
  },
  "orig_nbformat": 4,
  "vscode": {
   "interpreter": {
    "hash": "91c1d2470ab80b393afef1a9308e4146ea19685bf186cfe44fe3659b7d9e4fc0"
   }
  }
 },
 "nbformat": 4,
 "nbformat_minor": 2
}
