{
 "cells": [
  {
   "cell_type": "code",
   "execution_count": 1,
   "id": "e04904e2",
   "metadata": {},
   "outputs": [],
   "source": [
    "import pandas as pd\n",
    "import numpy as np"
   ]
  },
  {
   "cell_type": "code",
   "execution_count": 2,
   "id": "c8bb050d",
   "metadata": {},
   "outputs": [],
   "source": [
    "raw_patron_df = pd.read_excel('Data\\\\Raw_Data\\\\Patron_Checkouts.xlsx')\n",
    "raw_inventory_df = pd.read_csv('Data\\\\Raw_Data\\\\Collection_List.csv', encoding = 'unicode_escape')"
   ]
  },
  {
   "cell_type": "code",
   "execution_count": 3,
   "id": "06fad59b",
   "metadata": {},
   "outputs": [
    {
     "data": {
      "text/plain": [
       "(90878, 7)"
      ]
     },
     "execution_count": 3,
     "metadata": {},
     "output_type": "execute_result"
    }
   ],
   "source": [
    "raw_patron_df.shape"
   ]
  },
  {
   "cell_type": "code",
   "execution_count": 4,
   "id": "bb02505d",
   "metadata": {},
   "outputs": [
    {
     "data": {
      "text/plain": [
       "(25871, 5)"
      ]
     },
     "execution_count": 4,
     "metadata": {},
     "output_type": "execute_result"
    }
   ],
   "source": [
    "raw_inventory_df.shape"
   ]
  },
  {
   "cell_type": "code",
   "execution_count": 5,
   "id": "3f3957d8",
   "metadata": {
    "scrolled": true
   },
   "outputs": [],
   "source": [
    "# Select and remove all columns that have data in the last 2 columns\n",
    "df1 = raw_patron_df[raw_patron_df['Unnamed: 5'].notnull()]\n",
    "df2 = raw_patron_df[raw_patron_df['Unnamed: 6'].notnull()]\n",
    "\n",
    "patron_df = raw_patron_df.drop(pd.concat([df1, df2]).index)"
   ]
  },
  {
   "cell_type": "code",
   "execution_count": 6,
   "id": "68be5d22",
   "metadata": {
    "scrolled": true
   },
   "outputs": [
    {
     "data": {
      "text/plain": [
       "(90833, 7)"
      ]
     },
     "execution_count": 6,
     "metadata": {},
     "output_type": "execute_result"
    }
   ],
   "source": [
    "patron_df.shape"
   ]
  },
  {
   "cell_type": "code",
   "execution_count": 7,
   "id": "4f1eb6f9",
   "metadata": {},
   "outputs": [],
   "source": [
    "# Drop the last 2 columns\n",
    "patron_df.drop(['Unnamed: 5', 'Unnamed: 6'], axis = 1, inplace = True)"
   ]
  },
  {
   "cell_type": "code",
   "execution_count": 8,
   "id": "9e840e60",
   "metadata": {},
   "outputs": [
    {
     "data": {
      "text/plain": [
       "(90833, 5)"
      ]
     },
     "execution_count": 8,
     "metadata": {},
     "output_type": "execute_result"
    }
   ],
   "source": [
    "# Rename the columns\n",
    "patron_df.rename(columns = {'Patron Barcode': 'Patron_ID', 'Author\\'s Name': 'Author', 'Holdings Barcode': 'Item_ID', 'Date of Action': 'Date'}, inplace = True)\n",
    "patron_df.shape"
   ]
  },
  {
   "cell_type": "code",
   "execution_count": 9,
   "id": "a928d1bb",
   "metadata": {},
   "outputs": [
    {
     "data": {
      "text/plain": [
       "(76969, 5)"
      ]
     },
     "execution_count": 9,
     "metadata": {},
     "output_type": "execute_result"
    }
   ],
   "source": [
    "patron_df = patron_df.dropna()\n",
    "patron_df.shape"
   ]
  },
  {
   "cell_type": "code",
   "execution_count": 10,
   "id": "342a26ee",
   "metadata": {},
   "outputs": [],
   "source": [
    "patron_df['Is_ILL'] = patron_df['Title'].str.contains('ILL -', na = False)"
   ]
  },
  {
   "cell_type": "code",
   "execution_count": 11,
   "id": "ab928bca",
   "metadata": {
    "scrolled": true
   },
   "outputs": [
    {
     "data": {
      "text/plain": [
       "False    75481\n",
       "True      1488\n",
       "Name: Is_ILL, dtype: int64"
      ]
     },
     "execution_count": 11,
     "metadata": {},
     "output_type": "execute_result"
    }
   ],
   "source": [
    "patron_df['Is_ILL'].value_counts()"
   ]
  },
  {
   "cell_type": "code",
   "execution_count": 12,
   "id": "61feb361",
   "metadata": {},
   "outputs": [],
   "source": [
    "patron_df[['1', '2', '3', '4', '5', '6']] = patron_df['Author'].str.split(';', expand = True)\n",
    "patron_df.drop(['2', '3', '4', '5', '6'], axis = 1, inplace = True)"
   ]
  },
  {
   "cell_type": "code",
   "execution_count": 13,
   "id": "d43fa376",
   "metadata": {},
   "outputs": [],
   "source": [
    "patron_df[['Author_Last', 'Author_First', '1', '2', '3']] = patron_df['1'].str.split(',', expand = True)\n",
    "patron_df.drop(['Author', '1', '2', '3'], axis = 1,inplace = True)"
   ]
  },
  {
   "cell_type": "code",
   "execution_count": 14,
   "id": "3597574e",
   "metadata": {},
   "outputs": [],
   "source": [
    "patron_df = patron_df.replace('&', 'and')"
   ]
  },
  {
   "cell_type": "code",
   "execution_count": 15,
   "id": "4a3cd384",
   "metadata": {},
   "outputs": [],
   "source": [
    "cols = ['Title', 'Author_Last', 'Author_First']\n",
    "for col in cols:\n",
    "    patron_df[col] = patron_df[col].str.replace('[^\\w\\s]','', regex = True)\n",
    "    patron_df[col] = patron_df[col].str.lower()"
   ]
  },
  {
   "cell_type": "code",
   "execution_count": 16,
   "id": "7a4f9bf7",
   "metadata": {},
   "outputs": [
    {
     "data": {
      "text/html": [
       "<div>\n",
       "<style scoped>\n",
       "    .dataframe tbody tr th:only-of-type {\n",
       "        vertical-align: middle;\n",
       "    }\n",
       "\n",
       "    .dataframe tbody tr th {\n",
       "        vertical-align: top;\n",
       "    }\n",
       "\n",
       "    .dataframe thead th {\n",
       "        text-align: right;\n",
       "    }\n",
       "</style>\n",
       "<table border=\"1\" class=\"dataframe\">\n",
       "  <thead>\n",
       "    <tr style=\"text-align: right;\">\n",
       "      <th></th>\n",
       "      <th>Patron_ID</th>\n",
       "      <th>Title</th>\n",
       "      <th>Item_ID</th>\n",
       "      <th>Date</th>\n",
       "      <th>Is_ILL</th>\n",
       "      <th>Author_Last</th>\n",
       "      <th>Author_First</th>\n",
       "    </tr>\n",
       "  </thead>\n",
       "  <tbody>\n",
       "    <tr>\n",
       "      <th>40450</th>\n",
       "      <td>13390</td>\n",
       "      <td>the berenstain bears are superbears</td>\n",
       "      <td>125182</td>\n",
       "      <td>09/21/2021 05:57:36PM</td>\n",
       "      <td>False</td>\n",
       "      <td>berenstain</td>\n",
       "      <td>mike</td>\n",
       "    </tr>\n",
       "    <tr>\n",
       "      <th>56397</th>\n",
       "      <td>13728</td>\n",
       "      <td>dog man  mothering heights</td>\n",
       "      <td>125976</td>\n",
       "      <td>03/03/2022 01:57:12PM</td>\n",
       "      <td>False</td>\n",
       "      <td>pilkey</td>\n",
       "      <td>dav</td>\n",
       "    </tr>\n",
       "    <tr>\n",
       "      <th>80801</th>\n",
       "      <td>17679</td>\n",
       "      <td>celebrate your feeling  the positive mindset p...</td>\n",
       "      <td>133662</td>\n",
       "      <td>06/14/2022 12:05:15PM</td>\n",
       "      <td>False</td>\n",
       "      <td>rivers</td>\n",
       "      <td>lauren</td>\n",
       "    </tr>\n",
       "    <tr>\n",
       "      <th>6576</th>\n",
       "      <td>11896</td>\n",
       "      <td>crocodile tears</td>\n",
       "      <td>100989</td>\n",
       "      <td>12/20/2021 03:24:12PM</td>\n",
       "      <td>False</td>\n",
       "      <td>horowitz</td>\n",
       "      <td>anthony</td>\n",
       "    </tr>\n",
       "    <tr>\n",
       "      <th>49649</th>\n",
       "      <td>13548</td>\n",
       "      <td>ice cream and dinosaurs</td>\n",
       "      <td>108977</td>\n",
       "      <td>04/26/2022 03:48:58PM</td>\n",
       "      <td>False</td>\n",
       "      <td>litwin</td>\n",
       "      <td>eric</td>\n",
       "    </tr>\n",
       "    <tr>\n",
       "      <th>48939</th>\n",
       "      <td>13540</td>\n",
       "      <td>you go first</td>\n",
       "      <td>130436</td>\n",
       "      <td>01/29/2022 12:09:41PM</td>\n",
       "      <td>False</td>\n",
       "      <td>kelly</td>\n",
       "      <td>erin entrada</td>\n",
       "    </tr>\n",
       "    <tr>\n",
       "      <th>61924</th>\n",
       "      <td>14006</td>\n",
       "      <td>say hello to the snowy animals</td>\n",
       "      <td>107532</td>\n",
       "      <td>07/01/2022 01:47:09PM</td>\n",
       "      <td>False</td>\n",
       "      <td>whybrow</td>\n",
       "      <td>ian</td>\n",
       "    </tr>\n",
       "    <tr>\n",
       "      <th>73642</th>\n",
       "      <td>17219</td>\n",
       "      <td>clifford the firehouse dog</td>\n",
       "      <td>125227</td>\n",
       "      <td>04/01/2022 12:30:56PM</td>\n",
       "      <td>False</td>\n",
       "      <td>bridwell</td>\n",
       "      <td>norman</td>\n",
       "    </tr>\n",
       "    <tr>\n",
       "      <th>8552</th>\n",
       "      <td>12413</td>\n",
       "      <td>little miss spider  a christmas wish</td>\n",
       "      <td>134526</td>\n",
       "      <td>11/01/2021 05:04:18PM</td>\n",
       "      <td>False</td>\n",
       "      <td>kirk</td>\n",
       "      <td>david</td>\n",
       "    </tr>\n",
       "    <tr>\n",
       "      <th>74220</th>\n",
       "      <td>17231</td>\n",
       "      <td>ill  super earth encyclopedia</td>\n",
       "      <td>90000626</td>\n",
       "      <td>08/26/2021 11:15:09AM</td>\n",
       "      <td>True</td>\n",
       "      <td>woodward</td>\n",
       "      <td>john</td>\n",
       "    </tr>\n",
       "  </tbody>\n",
       "</table>\n",
       "</div>"
      ],
      "text/plain": [
       "       Patron_ID                                              Title   Item_ID  \\\n",
       "40450      13390                the berenstain bears are superbears    125182   \n",
       "56397      13728                         dog man  mothering heights    125976   \n",
       "80801      17679  celebrate your feeling  the positive mindset p...    133662   \n",
       "6576       11896                                    crocodile tears    100989   \n",
       "49649      13548                            ice cream and dinosaurs    108977   \n",
       "48939      13540                                       you go first    130436   \n",
       "61924      14006                     say hello to the snowy animals    107532   \n",
       "73642      17219                         clifford the firehouse dog    125227   \n",
       "8552       12413               little miss spider  a christmas wish    134526   \n",
       "74220      17231                      ill  super earth encyclopedia  90000626   \n",
       "\n",
       "                        Date  Is_ILL Author_Last   Author_First  \n",
       "40450  09/21/2021 05:57:36PM   False  berenstain           mike  \n",
       "56397  03/03/2022 01:57:12PM   False      pilkey            dav  \n",
       "80801  06/14/2022 12:05:15PM   False      rivers         lauren  \n",
       "6576   12/20/2021 03:24:12PM   False    horowitz        anthony  \n",
       "49649  04/26/2022 03:48:58PM   False      litwin           eric  \n",
       "48939  01/29/2022 12:09:41PM   False       kelly   erin entrada  \n",
       "61924  07/01/2022 01:47:09PM   False     whybrow            ian  \n",
       "73642  04/01/2022 12:30:56PM   False    bridwell         norman  \n",
       "8552   11/01/2021 05:04:18PM   False        kirk          david  \n",
       "74220  08/26/2021 11:15:09AM    True    woodward           john  "
      ]
     },
     "execution_count": 16,
     "metadata": {},
     "output_type": "execute_result"
    }
   ],
   "source": [
    "patron_df.sample(10)"
   ]
  },
  {
   "cell_type": "code",
   "execution_count": 17,
   "id": "d9a23248",
   "metadata": {},
   "outputs": [
    {
     "data": {
      "text/plain": [
       "(76969, 7)"
      ]
     },
     "execution_count": 17,
     "metadata": {},
     "output_type": "execute_result"
    }
   ],
   "source": [
    "patron_df.shape"
   ]
  },
  {
   "cell_type": "code",
   "execution_count": 18,
   "id": "d521650c",
   "metadata": {},
   "outputs": [
    {
     "data": {
      "text/plain": [
       "(25871, 2)"
      ]
     },
     "execution_count": 18,
     "metadata": {},
     "output_type": "execute_result"
    }
   ],
   "source": [
    "inventory_df = raw_inventory_df.drop(['Media_Type', 'Identity', 'Count'], axis = 1)\n",
    "inventory_df.shape"
   ]
  },
  {
   "cell_type": "code",
   "execution_count": 19,
   "id": "4b067515",
   "metadata": {},
   "outputs": [],
   "source": [
    "inventory_df.dropna(inplace = True)"
   ]
  },
  {
   "cell_type": "code",
   "execution_count": 20,
   "id": "b1c878ee",
   "metadata": {},
   "outputs": [],
   "source": [
    "inventory_df[['1', '2', '3', '4', '5', '6']] = inventory_df['Author'].str.split(';', expand = True)\n",
    "inventory_df.drop(['2', '3', '4', '5', '6'], axis = 1, inplace = True)"
   ]
  },
  {
   "cell_type": "code",
   "execution_count": 21,
   "id": "19f36013",
   "metadata": {},
   "outputs": [],
   "source": [
    "inventory_df[['Author_Last', 'Author_First', '1', '2', '3']] = inventory_df['1'].str.split(',', expand = True)\n",
    "inventory_df.drop(['Author','1', '2', '3'], axis = 1,inplace = True)"
   ]
  },
  {
   "cell_type": "code",
   "execution_count": 22,
   "id": "628a324c",
   "metadata": {},
   "outputs": [],
   "source": [
    "inventory_df = inventory_df.replace('&', 'and')"
   ]
  },
  {
   "cell_type": "code",
   "execution_count": 23,
   "id": "172d0f98",
   "metadata": {},
   "outputs": [],
   "source": [
    "cols = ['Title', 'Author_Last', 'Author_First']\n",
    "for col in cols:\n",
    "    inventory_df[col] = inventory_df[col].str.replace('[^\\w\\s]','', regex = True)\n",
    "    inventory_df[col] = inventory_df[col].str.lower()"
   ]
  },
  {
   "cell_type": "code",
   "execution_count": 24,
   "id": "55c1497a",
   "metadata": {},
   "outputs": [
    {
     "data": {
      "text/plain": [
       "(24062, 3)"
      ]
     },
     "execution_count": 24,
     "metadata": {},
     "output_type": "execute_result"
    }
   ],
   "source": [
    "inventory_df.dropna(inplace = True)\n",
    "inventory_df.shape"
   ]
  },
  {
   "cell_type": "code",
   "execution_count": 25,
   "id": "55804ef9",
   "metadata": {},
   "outputs": [
    {
     "data": {
      "text/plain": [
       "(23744, 3)"
      ]
     },
     "execution_count": 25,
     "metadata": {},
     "output_type": "execute_result"
    }
   ],
   "source": [
    "inventory_df.drop_duplicates(inplace = True)\n",
    "inventory_df.shape"
   ]
  },
  {
   "cell_type": "code",
   "execution_count": 26,
   "id": "89b30bc2",
   "metadata": {},
   "outputs": [],
   "source": [
    "inventory_df.to_csv('C:/Users/Ben/Desktop/Clean_Inventory.csv', index = False)\n",
    "patron_df.to_csv('C:/Users/Ben/Desktop/Clean_Patrons.csv', index = False)"
   ]
  },
  {
   "cell_type": "code",
   "execution_count": 37,
   "id": "d3f6162b",
   "metadata": {},
   "outputs": [
    {
     "data": {
      "text/plain": [
       "620"
      ]
     },
     "execution_count": 37,
     "metadata": {},
     "output_type": "execute_result"
    }
   ],
   "source": [
    "# How many titles are there that correspond to at least two different books? (So you're looking for totally different books that just happen to have the same title.)\n",
    "inventory_df.shape[0] - inventory_df['Title'].value_counts().shape[0]"
   ]
  },
  {
   "cell_type": "code",
   "execution_count": 40,
   "id": "cc733919",
   "metadata": {},
   "outputs": [
    {
     "data": {
      "text/plain": [
       "0.15263175277707441"
      ]
     },
     "execution_count": 40,
     "metadata": {},
     "output_type": "execute_result"
    }
   ],
   "source": [
    "# What proportion of titles have no author?\n",
    "(90833 - 76969) / 90833"
   ]
  },
  {
   "cell_type": "code",
   "execution_count": 71,
   "id": "d00006e4",
   "metadata": {},
   "outputs": [
    {
     "data": {
      "text/plain": [
       "13864"
      ]
     },
     "execution_count": 71,
     "metadata": {},
     "output_type": "execute_result"
    }
   ],
   "source": [
    "90833 - 76969"
   ]
  },
  {
   "cell_type": "code",
   "execution_count": 67,
   "id": "9e5b685f",
   "metadata": {},
   "outputs": [
    {
     "data": {
      "text/plain": [
       "Patron_ID\n",
       "17999    123\n",
       "12346     80\n",
       "13647     67\n",
       "13227     54\n",
       "17785     44\n",
       "        ... \n",
       "13863      1\n",
       "16954      1\n",
       "13592      1\n",
       "12849      1\n",
       "13025      1\n",
       "Length: 146, dtype: int64"
      ]
     },
     "execution_count": 67,
     "metadata": {},
     "output_type": "execute_result"
    }
   ],
   "source": [
    "# What proportion of patrons have done ILL?\n",
    "ILL_Checkouts = patron_df[['Patron_ID', 'Is_ILL']].value_counts()\n",
    "ILL_Checkouts.loc[:,True]"
   ]
  },
  {
   "cell_type": "code",
   "execution_count": 68,
   "id": "7eea16ad",
   "metadata": {},
   "outputs": [
    {
     "data": {
      "text/plain": [
       "1023"
      ]
     },
     "execution_count": 68,
     "metadata": {},
     "output_type": "execute_result"
    }
   ],
   "source": [
    "patron_df['Patron_ID'].nunique()"
   ]
  },
  {
   "cell_type": "code",
   "execution_count": 69,
   "id": "33f9b038",
   "metadata": {},
   "outputs": [
    {
     "data": {
      "text/plain": [
       "0.14271749755620725"
      ]
     },
     "execution_count": 69,
     "metadata": {},
     "output_type": "execute_result"
    }
   ],
   "source": [
    "146 / 1023"
   ]
  },
  {
   "cell_type": "code",
   "execution_count": 43,
   "id": "8b7dba91",
   "metadata": {},
   "outputs": [
    {
     "data": {
      "text/plain": [
       "0.019713570302460223"
      ]
     },
     "execution_count": 43,
     "metadata": {},
     "output_type": "execute_result"
    }
   ],
   "source": [
    "# What proportion of checkouts are ILL?\n",
    "patron_df['Is_ILL'].value_counts()\n",
    "1488 / 75481"
   ]
  },
  {
   "cell_type": "code",
   "execution_count": 73,
   "id": "a6bea90b",
   "metadata": {},
   "outputs": [
    {
     "data": {
      "text/plain": [
       "(76969, 7)"
      ]
     },
     "execution_count": 73,
     "metadata": {},
     "output_type": "execute_result"
    }
   ],
   "source": [
    "patron_df.shape"
   ]
  }
 ],
 "metadata": {
  "kernelspec": {
   "display_name": "Python 3 (ipykernel)",
   "language": "python",
   "name": "python3"
  },
  "language_info": {
   "codemirror_mode": {
    "name": "ipython",
    "version": 3
   },
   "file_extension": ".py",
   "mimetype": "text/x-python",
   "name": "python",
   "nbconvert_exporter": "python",
   "pygments_lexer": "ipython3",
   "version": "3.9.12"
  }
 },
 "nbformat": 4,
 "nbformat_minor": 5
}
