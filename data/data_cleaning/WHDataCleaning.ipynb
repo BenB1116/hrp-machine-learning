{
 "cells": [
  {
   "cell_type": "code",
   "execution_count": 8,
   "id": "64629601",
   "metadata": {},
   "outputs": [],
   "source": [
    "import uuid\n",
    "import pandas as pd"
   ]
  },
  {
   "cell_type": "code",
   "execution_count": 16,
   "id": "109c76a2",
   "metadata": {},
   "outputs": [],
   "source": [
    "# URLs for the data\n",
    "patron_path = r'C:\\Users\\Ben\\IdeaProjects\\hrp-machine-learning\\data\\wh_data\\Patron_Checkouts.xlsx'\n",
    "\n",
    "patron_df = pd.read_excel(patron_path)"
   ]
  },
  {
   "cell_type": "code",
   "execution_count": 39,
   "id": "27f93d29",
   "metadata": {
    "scrolled": true
   },
   "outputs": [
    {
     "name": "stdout",
     "output_type": "stream",
     "text": [
      "90878\n"
     ]
    },
    {
     "data": {
      "text/html": [
       "<div>\n",
       "<style scoped>\n",
       "    .dataframe tbody tr th:only-of-type {\n",
       "        vertical-align: middle;\n",
       "    }\n",
       "\n",
       "    .dataframe tbody tr th {\n",
       "        vertical-align: top;\n",
       "    }\n",
       "\n",
       "    .dataframe thead th {\n",
       "        text-align: right;\n",
       "    }\n",
       "</style>\n",
       "<table border=\"1\" class=\"dataframe\">\n",
       "  <thead>\n",
       "    <tr style=\"text-align: right;\">\n",
       "      <th></th>\n",
       "      <th>Patron Barcode</th>\n",
       "      <th>Title</th>\n",
       "      <th>Author's Name</th>\n",
       "      <th>Holdings Barcode</th>\n",
       "      <th>Date of Action</th>\n",
       "      <th>Unnamed: 5</th>\n",
       "      <th>Unnamed: 6</th>\n",
       "    </tr>\n",
       "  </thead>\n",
       "  <tbody>\n",
       "    <tr>\n",
       "      <th>0</th>\n",
       "      <td>10010</td>\n",
       "      <td>Of mice and men</td>\n",
       "      <td>Steinbeck, John,</td>\n",
       "      <td>120181</td>\n",
       "      <td>01/19/2021 03:57:26PM</td>\n",
       "      <td>NaN</td>\n",
       "      <td>NaN</td>\n",
       "    </tr>\n",
       "    <tr>\n",
       "      <th>1</th>\n",
       "      <td>10010</td>\n",
       "      <td>ILL - The truth at daybreak</td>\n",
       "      <td>Torockio, Christopher</td>\n",
       "      <td>90000718</td>\n",
       "      <td>03/11/2021 12:19:29PM</td>\n",
       "      <td>NaN</td>\n",
       "      <td>NaN</td>\n",
       "    </tr>\n",
       "    <tr>\n",
       "      <th>2</th>\n",
       "      <td>10010</td>\n",
       "      <td>ILL - The truth at daybreak</td>\n",
       "      <td>Torockio, Christopher</td>\n",
       "      <td>90000718</td>\n",
       "      <td>04/08/2021 04:24:14PM</td>\n",
       "      <td>NaN</td>\n",
       "      <td>NaN</td>\n",
       "    </tr>\n",
       "    <tr>\n",
       "      <th>3</th>\n",
       "      <td>10041</td>\n",
       "      <td>The unforgotten : a novel</td>\n",
       "      <td>Powell, Laura</td>\n",
       "      <td>123448</td>\n",
       "      <td>05/01/2021 11:43:20AM</td>\n",
       "      <td>NaN</td>\n",
       "      <td>NaN</td>\n",
       "    </tr>\n",
       "    <tr>\n",
       "      <th>4</th>\n",
       "      <td>10041</td>\n",
       "      <td>Star Wars, the clone wars.</td>\n",
       "      <td>Hibbert, Clare,</td>\n",
       "      <td>131727</td>\n",
       "      <td>05/01/2021 11:43:22AM</td>\n",
       "      <td>NaN</td>\n",
       "      <td>NaN</td>\n",
       "    </tr>\n",
       "  </tbody>\n",
       "</table>\n",
       "</div>"
      ],
      "text/plain": [
       "   Patron Barcode                        Title          Author's Name  \\\n",
       "0           10010              Of mice and men       Steinbeck, John,   \n",
       "1           10010  ILL - The truth at daybreak  Torockio, Christopher   \n",
       "2           10010  ILL - The truth at daybreak  Torockio, Christopher   \n",
       "3           10041    The unforgotten : a novel          Powell, Laura   \n",
       "4           10041   Star Wars, the clone wars.        Hibbert, Clare,   \n",
       "\n",
       "  Holdings Barcode         Date of Action Unnamed: 5 Unnamed: 6  \n",
       "0           120181  01/19/2021 03:57:26PM        NaN        NaN  \n",
       "1         90000718  03/11/2021 12:19:29PM        NaN        NaN  \n",
       "2         90000718  04/08/2021 04:24:14PM        NaN        NaN  \n",
       "3           123448  05/01/2021 11:43:20AM        NaN        NaN  \n",
       "4           131727  05/01/2021 11:43:22AM        NaN        NaN  "
      ]
     },
     "execution_count": 39,
     "metadata": {},
     "output_type": "execute_result"
    }
   ],
   "source": [
    "print(len(patron_df))\n",
    "patron_df.head()"
   ]
  },
  {
   "cell_type": "code",
   "execution_count": 110,
   "id": "abce7c68",
   "metadata": {
    "scrolled": true
   },
   "outputs": [],
   "source": [
    "# Remove entries that flow into extra columns\n",
    "patron_df_trim = patron_df[patron_df['Unnamed: 5'].isnull()]\n",
    "patron_df_trim = patron_df[patron_df['Unnamed: 6'].isnull()]\n",
    "\n",
    "# Remove extra columns and rename remaining columns\n",
    "patron_df_trim = patron_df.drop(columns=['Holdings Barcode', 'Date of Action', 'Unnamed: 5', 'Unnamed: 6'])\n",
    "patron_df_trim = patron_df_trim.rename(columns={'Patron Barcode': 'patron_id', 'Title': 'title', 'Author\\'s Name': 'author'})"
   ]
  },
  {
   "cell_type": "code",
   "execution_count": 111,
   "id": "12a0d5b5",
   "metadata": {},
   "outputs": [],
   "source": [
    "# Drop entries with null values\n",
    "patron_df_trim = patron_df_trim.dropna()"
   ]
  },
  {
   "cell_type": "code",
   "execution_count": 117,
   "id": "714de0c3",
   "metadata": {},
   "outputs": [],
   "source": [
    "# Split mutiple authors on ; and author first and last on ,\n",
    "patron_df_trim['author'] = patron_df_trim['author'].str.split(';', expand=True)[0]\n",
    "patron_df_split = patron_df_trim\n",
    "\n",
    "patron_df_split['author_last'] = patron_df_split['author'].str.split(',', expand=True)[0]\n",
    "patron_df_split['author_first'] = patron_df_split['author'].str.split(',', expand=True)[1]\n",
    "\n",
    "patron_df_split = patron_df_split.drop(columns = ['author'])"
   ]
  },
  {
   "cell_type": "code",
   "execution_count": 125,
   "id": "693ce688",
   "metadata": {
    "scrolled": true
   },
   "outputs": [
    {
     "data": {
      "text/html": [
       "<div>\n",
       "<style scoped>\n",
       "    .dataframe tbody tr th:only-of-type {\n",
       "        vertical-align: middle;\n",
       "    }\n",
       "\n",
       "    .dataframe tbody tr th {\n",
       "        vertical-align: top;\n",
       "    }\n",
       "\n",
       "    .dataframe thead th {\n",
       "        text-align: right;\n",
       "    }\n",
       "</style>\n",
       "<table border=\"1\" class=\"dataframe\">\n",
       "  <thead>\n",
       "    <tr style=\"text-align: right;\">\n",
       "      <th></th>\n",
       "      <th>patron_id</th>\n",
       "      <th>title</th>\n",
       "      <th>author_last</th>\n",
       "      <th>author_first</th>\n",
       "    </tr>\n",
       "  </thead>\n",
       "  <tbody>\n",
       "    <tr>\n",
       "      <th>0</th>\n",
       "      <td>10010</td>\n",
       "      <td>Of mice and men</td>\n",
       "      <td>Steinbeck</td>\n",
       "      <td>John</td>\n",
       "    </tr>\n",
       "    <tr>\n",
       "      <th>1</th>\n",
       "      <td>10010</td>\n",
       "      <td>ILL - The truth at daybreak</td>\n",
       "      <td>Torockio</td>\n",
       "      <td>Christopher</td>\n",
       "    </tr>\n",
       "    <tr>\n",
       "      <th>2</th>\n",
       "      <td>10010</td>\n",
       "      <td>ILL - The truth at daybreak</td>\n",
       "      <td>Torockio</td>\n",
       "      <td>Christopher</td>\n",
       "    </tr>\n",
       "    <tr>\n",
       "      <th>3</th>\n",
       "      <td>10041</td>\n",
       "      <td>The unforgotten : a novel</td>\n",
       "      <td>Powell</td>\n",
       "      <td>Laura</td>\n",
       "    </tr>\n",
       "    <tr>\n",
       "      <th>4</th>\n",
       "      <td>10041</td>\n",
       "      <td>Star Wars, the clone wars.</td>\n",
       "      <td>Hibbert</td>\n",
       "      <td>Clare</td>\n",
       "    </tr>\n",
       "    <tr>\n",
       "      <th>...</th>\n",
       "      <td>...</td>\n",
       "      <td>...</td>\n",
       "      <td>...</td>\n",
       "      <td>...</td>\n",
       "    </tr>\n",
       "    <tr>\n",
       "      <th>90871</th>\n",
       "      <td>18182</td>\n",
       "      <td>The scarecrow : a novel</td>\n",
       "      <td>Connelly</td>\n",
       "      <td>Michael</td>\n",
       "    </tr>\n",
       "    <tr>\n",
       "      <th>90872</th>\n",
       "      <td>18182</td>\n",
       "      <td>Fair warning</td>\n",
       "      <td>Connelly</td>\n",
       "      <td>Michael</td>\n",
       "    </tr>\n",
       "    <tr>\n",
       "      <th>90873</th>\n",
       "      <td>18182</td>\n",
       "      <td>Fair warning</td>\n",
       "      <td>Connelly</td>\n",
       "      <td>Michael</td>\n",
       "    </tr>\n",
       "    <tr>\n",
       "      <th>90874</th>\n",
       "      <td>18182</td>\n",
       "      <td>The late show</td>\n",
       "      <td>Connelly</td>\n",
       "      <td>Michael</td>\n",
       "    </tr>\n",
       "    <tr>\n",
       "      <th>90875</th>\n",
       "      <td>18182</td>\n",
       "      <td>The late show</td>\n",
       "      <td>Connelly</td>\n",
       "      <td>Michael</td>\n",
       "    </tr>\n",
       "  </tbody>\n",
       "</table>\n",
       "<p>76211 rows × 4 columns</p>\n",
       "</div>"
      ],
      "text/plain": [
       "       patron_id                        title author_last  author_first\n",
       "0          10010              Of mice and men   Steinbeck          John\n",
       "1          10010  ILL - The truth at daybreak    Torockio   Christopher\n",
       "2          10010  ILL - The truth at daybreak    Torockio   Christopher\n",
       "3          10041    The unforgotten : a novel      Powell         Laura\n",
       "4          10041   Star Wars, the clone wars.     Hibbert         Clare\n",
       "...          ...                          ...         ...           ...\n",
       "90871      18182      The scarecrow : a novel    Connelly       Michael\n",
       "90872      18182                 Fair warning    Connelly       Michael\n",
       "90873      18182                 Fair warning    Connelly       Michael\n",
       "90874      18182                The late show    Connelly       Michael\n",
       "90875      18182                The late show    Connelly       Michael\n",
       "\n",
       "[76211 rows x 4 columns]"
      ]
     },
     "execution_count": 125,
     "metadata": {},
     "output_type": "execute_result"
    }
   ],
   "source": []
  }
 ],
 "metadata": {
  "kernelspec": {
   "display_name": "Python 3.11.0 64-bit",
   "language": "python",
   "name": "python3"
  },
  "language_info": {
   "codemirror_mode": {
    "name": "ipython",
    "version": 3
   },
   "file_extension": ".py",
   "mimetype": "text/x-python",
   "name": "python",
   "nbconvert_exporter": "python",
   "pygments_lexer": "ipython3",
   "version": "3.11.0"
  },
  "vscode": {
   "interpreter": {
    "hash": "c261aea317cc0286b3b3261fbba9abdec21eaa57589985bb7a274bf54d6cc0a7"
   }
  }
 },
 "nbformat": 4,
 "nbformat_minor": 5
}
