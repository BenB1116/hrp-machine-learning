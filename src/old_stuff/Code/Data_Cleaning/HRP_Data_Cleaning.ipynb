{
 "cells": [
  {
   "cell_type": "code",
   "execution_count": 1,
   "id": "369ea24a",
   "metadata": {},
   "outputs": [],
   "source": [
    "import pandas as pd\n",
    "import numpy as np\n",
    "\n",
    "# Import dfs\n",
    "patron_df = pd.read_excel('Data\\\\Raw_Data\\\\Patron_Checkouts.xlsx')\n",
    "inventory_df = pd.read_csv('Data\\\\Raw_Data\\\\Collection_List.csv', encoding = 'unicode_escape')"
   ]
  },
  {
   "cell_type": "code",
   "execution_count": 2,
   "id": "39ed3a73",
   "metadata": {
    "scrolled": false
   },
   "outputs": [],
   "source": [
    "# Drop all unnecessary columns\n",
    "patron_df = patron_df.drop(['Holdings Barcode', 'Unnamed: 5', 'Unnamed: 6'], axis = 1)\n",
    "inventory_df = inventory_df.drop(['Media_Type', 'Identity', 'Count'], axis = 1)\n",
    "\n",
    "# Rename Patron Columns\n",
    "patron_df.rename(columns = {'Patron Barcode': 'Patron_Barcode', 'Author\\'s Name': 'Author', 'Date of Action': 'Date'}, inplace = True)"
   ]
  },
  {
   "cell_type": "code",
   "execution_count": 3,
   "id": "ce102877",
   "metadata": {},
   "outputs": [],
   "source": [
    "# Split the first and last name on the ,\n",
    "inventory_df[['Author_Last', 'Author_First']] = inventory_df['Author'].str.split(',', expand = True).drop([2, 3, 4, 5, 6], axis = 1)\n",
    "inventory_df = inventory_df.drop('Author', axis = 1)"
   ]
  },
  {
   "cell_type": "code",
   "execution_count": 4,
   "id": "0824e91e",
   "metadata": {},
   "outputs": [],
   "source": [
    "# Split the first and last name on the ,\n",
    "patron_df[['Author_Last', 'Author_First']] = patron_df['Author'].str.split(',', expand = True).drop([2, 3, 4, 5], axis = 1)\n",
    "patron_df = patron_df.drop('Author', axis = 1)"
   ]
  },
  {
   "cell_type": "code",
   "execution_count": 5,
   "id": "f8c7c6a0",
   "metadata": {},
   "outputs": [],
   "source": [
    "# List of columns\n",
    "cols = ['Title', 'Author_First', 'Author_Last']\n",
    "\n",
    "# Remove all punctuation and turn everything into lower case\n",
    "for col in cols:\n",
    "    patron_df[col] = patron_df[col].str.replace('[^\\w\\s]','', regex = True)\n",
    "    patron_df[col] = patron_df[col].str.lower()\n",
    "    inventory_df[col] = inventory_df[col].str.replace('[^\\w\\s]','', regex = True)\n",
    "    inventory_df[col] = inventory_df[col].str.lower()"
   ]
  },
  {
   "cell_type": "code",
   "execution_count": 6,
   "id": "519f6c9e",
   "metadata": {
    "scrolled": true
   },
   "outputs": [],
   "source": [
    "# Remove all duplicated title from the inventory. Keep the rows with the least amount of null values\n",
    "inventory_df = inventory_df[~inventory_df['Title'].duplicated(keep=False) | inventory_df[['Author_First','Author_Last']].notnull().any(axis=1)]"
   ]
  },
  {
   "cell_type": "code",
   "execution_count": 7,
   "id": "33866576",
   "metadata": {},
   "outputs": [],
   "source": [
    "# Remove all duplicates\n",
    "inventory_df.drop_duplicates(keep = 'first', inplace = True)\n",
    "patron_df.drop_duplicates(keep = 'first', inplace = True)\n",
    "\n",
    "# Drop all rows with null values\n",
    "inventory_df.dropna(inplace = True, subset = ['Title'])\n",
    "patron_df.dropna(inplace = True, subset = ['Patron_Barcode', 'Title', 'Date'])\n",
    "\n",
    "# Fill empty Author names in patron_df from inventory_df\n",
    "patron_df.fillna(inventory_df, inplace = True)"
   ]
  },
  {
   "cell_type": "code",
   "execution_count": 8,
   "id": "3781df45",
   "metadata": {},
   "outputs": [],
   "source": [
    "# Create a series of all inventory titles\n",
    "inventory = inventory_df['Title']\n",
    "\n",
    "# Remove any entrys that are not in the inventory\n",
    "patron_df = patron_df[patron_df['Title'].isin(inventory)]"
   ]
  },
  {
   "cell_type": "code",
   "execution_count": 9,
   "id": "2ad369fe",
   "metadata": {},
   "outputs": [
    {
     "name": "stdout",
     "output_type": "stream",
     "text": [
      "25387\n",
      "77674\n"
     ]
    }
   ],
   "source": [
    "print(len(inventory_df))\n",
    "print(len(patron_df))"
   ]
  },
  {
   "cell_type": "code",
   "execution_count": 10,
   "id": "e0916d89",
   "metadata": {
    "scrolled": true
   },
   "outputs": [],
   "source": [
    "# Export dfs as csv \n",
    "inventory_df.to_csv('C:/Users/Ben/Desktop/Clean_Inventory.csv', index = False)\n",
    "patron_df.to_csv('C:/Users/Ben/Desktop/Clean_Patrons.csv', index = False)"
   ]
  }
 ],
 "metadata": {
  "kernelspec": {
   "display_name": "Python 3 (ipykernel)",
   "language": "python",
   "name": "python3"
  },
  "language_info": {
   "codemirror_mode": {
    "name": "ipython",
    "version": 3
   },
   "file_extension": ".py",
   "mimetype": "text/x-python",
   "name": "python",
   "nbconvert_exporter": "python",
   "pygments_lexer": "ipython3",
   "version": "3.9.12"
  }
 },
 "nbformat": 4,
 "nbformat_minor": 5
}
