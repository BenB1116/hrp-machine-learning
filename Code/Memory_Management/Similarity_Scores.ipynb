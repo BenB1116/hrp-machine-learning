{
 "cells": [
  {
   "cell_type": "code",
   "execution_count": 147,
   "metadata": {},
   "outputs": [],
   "source": [
    "import pandas as pd\n",
    "import numpy as np\n",
    "import math\n",
    "import random"
   ]
  },
  {
   "cell_type": "code",
   "execution_count": 148,
   "metadata": {},
   "outputs": [],
   "source": [
    "#Github URLs\n",
    "patron_url = 'https://github.com/BenB1116/hrp-machine-learning/blob/master/Data/Clean_Data/Clean_Patron.csv?raw=true'\n",
    "inventory_url = 'https://github.com/BenB1116/hrp-machine-learning/blob/master/Data/Clean_Data/Clean_Inventory.csv?raw=true'\n",
    "\n",
    "#Import and convert csv files\n",
    "raw_patron_df = pd.read_csv(patron_url)\n",
    "raw_inventory_df = pd.read_csv(inventory_url)"
   ]
  },
  {
   "cell_type": "code",
   "execution_count": 149,
   "metadata": {},
   "outputs": [],
   "source": [
    "# Create copies of dfs\n",
    "patron_df = raw_patron_df.copy()\n",
    "inventory_df = raw_inventory_df.copy()\n",
    "\n",
    "# Drop random columns\n",
    "patron_df.drop(columns = 'Unnamed: 0', inplace = True)\n",
    "inventory_df.drop(columns = 'Unnamed: 0', inplace = True)"
   ]
  },
  {
   "cell_type": "code",
   "execution_count": 150,
   "metadata": {},
   "outputs": [],
   "source": [
    "# Return a list of canidate items for comparision\n",
    "def get_can_list(item_id):\n",
    "    users = set(patron_df[patron_df['Item_ID'] == item_id]['Patron_ID'].values)\n",
    "\n",
    "    common_items = []\n",
    "    for user in users:\n",
    "        common_items += list(patron_df[patron_df['Patron_ID'] == user]['Item_ID'].values)\n",
    "    return list(set(common_items))   \n",
    "\n",
    "# Using the canidate list return a dictoinary of all items in it paired with all users who have purchased that item \n",
    "def get_user_per_item(item_id):\n",
    "    can_list = get_can_list(item_id)\n",
    "\n",
    "    return {item: set(patron_df[patron_df['Item_ID'] == item]['Patron_ID'].values) for item in can_list}\n"
   ]
  },
  {
   "cell_type": "code",
   "execution_count": 151,
   "metadata": {},
   "outputs": [],
   "source": [
    "# Similarity Functions\n",
    "\n",
    "#Naive Similarity\n",
    "def naive_similarity(item1_list, item2_list):\n",
    "    return len(set.intersection(item1_list, item2_list))\n",
    "\n",
    "# Jaccard Similarity\n",
    "def jaccard_similarity(item1_list, item2_list):\n",
    "    return len(set.intersection(item1_list, item2_list)) / len(set.union(item1_list, item2_list))\n",
    "\n",
    "# Cosine Similarity\n",
    "def cosine_similarity(item1_list, item2_list):\n",
    "    num = len(set.intersection(item1_list, item2_list))\n",
    "    dem = math.sqrt(len(item1_list) * len(item2_list))\n",
    "    \n",
    "    return  num / dem"
   ]
  },
  {
   "cell_type": "code",
   "execution_count": 152,
   "metadata": {},
   "outputs": [],
   "source": [
    "# Calculate the similarity between any item and every item in its canidate list\n",
    "def sim_scores(target_item_id, func, dic):\n",
    "    scores = {item: func(dic[target_item_id], dic[item]) for item in list(dic.keys())}\n",
    "    sorted_scores = {item: sim for item, sim in sorted(scores.items(), key = lambda item: item[1], reverse = True)}\n",
    "\n",
    "    return list(sorted_scores.keys())"
   ]
  },
  {
   "cell_type": "code",
   "execution_count": 153,
   "metadata": {},
   "outputs": [],
   "source": [
    "# num = 5\n",
    "# top_n = sim_scores(3, jaccard_similarity, get_user_per_item(3))[:num + 1]\n",
    "\n",
    "# for i, item in enumerate(top_n):\n",
    "#     if i == 0:\n",
    "#         print('Chosen book:')\n",
    "#     elif i== 1:\n",
    "#         print(f\"The top {num} closest results are:\")\n",
    "#     print(f\"Title: {inventory_df.iloc[item]['Title']}\\nAuthor: {inventory_df.iloc[item]['Author_Last']}, {inventory_df.iloc[item]['Author_First']}\\n\")"
   ]
  },
  {
   "cell_type": "code",
   "execution_count": 154,
   "metadata": {},
   "outputs": [],
   "source": [
    "users = set(patron_df['Patron_ID'].values)\n",
    "items = set(inventory_df.index)\n",
    "\n",
    "# Create a users by item list and an item by users list\n",
    "users_by_item = {item: set(patron_df[patron_df['Item_ID'] == item]['Patron_ID'].values) for item in items}\n",
    "items_by_user = {user: list(set(patron_df[patron_df['Patron_ID'] == user]['Item_ID'].values)) for user in users}"
   ]
  },
  {
   "cell_type": "code",
   "execution_count": 155,
   "metadata": {},
   "outputs": [],
   "source": [
    "\n",
    "sample_items_by_user = {}\n",
    "\n",
    "# Select two elements within each patrons items list and one not in\n",
    "for user_id in users:\n",
    "    if len(items_by_user[user_id]) > 1:\n",
    "        ran_sample = random.sample(items_by_user[user_id], k=2)\n",
    "        can_list = get_can_list(ran_sample[0])\n",
    "        sample_items_by_user[user_id] = ran_sample + random.sample(list(set(can_list) - users_by_item[ran_sample[0]]), k = 1)"
   ]
  },
  {
   "cell_type": "code",
   "execution_count": 156,
   "metadata": {},
   "outputs": [],
   "source": [
    "# Return True if the similarity between i and j is greater than i and k\n",
    "def is_greater(item_list, fuc):\n",
    "    sim1 = fuc(users_by_item[item_list[0]], users_by_item[item_list[1]])\n",
    "    sim2 = fuc(users_by_item[item_list[0]], users_by_item[item_list[2]])\n",
    "    if sim1 >= sim2:\n",
    "        return True\n",
    "    return False\n",
    "\n",
    "#Returns the generated score\n",
    "def get_score(fuc):\n",
    "    count = 0\n",
    "\n",
    "    # Count how many times sim(i, j) is greater than sim(i, k)\n",
    "    for user in sample_items_by_user.keys():\n",
    "        if is_greater(sample_items_by_user[user], fuc):\n",
    "            count += 1\n",
    "    \n",
    "    return count / len(sample_items_by_user)"
   ]
  },
  {
   "cell_type": "code",
   "execution_count": 157,
   "metadata": {},
   "outputs": [
    {
     "name": "stdout",
     "output_type": "stream",
     "text": [
      "naive_similarity: 95.08 %\n",
      "jaccard_similarity: 63.57 %\n",
      "cosine_similarity: 63.46 %\n"
     ]
    }
   ],
   "source": [
    "functions = [naive_similarity, jaccard_similarity, cosine_similarity]\n",
    "\n",
    "for fuc in functions:\n",
    "    print(f'{fuc.__name__}: {\"{:.2f}\".format(round(get_score(fuc) * 100, 2))} %')"
   ]
  }
 ],
 "metadata": {
  "kernelspec": {
   "display_name": "Python 3.9.12 ('base')",
   "language": "python",
   "name": "python3"
  },
  "language_info": {
   "codemirror_mode": {
    "name": "ipython",
    "version": 3
   },
   "file_extension": ".py",
   "mimetype": "text/x-python",
   "name": "python",
   "nbconvert_exporter": "python",
   "pygments_lexer": "ipython3",
   "version": "3.9.12"
  },
  "orig_nbformat": 4,
  "vscode": {
   "interpreter": {
    "hash": "91c1d2470ab80b393afef1a9308e4146ea19685bf186cfe44fe3659b7d9e4fc0"
   }
  }
 },
 "nbformat": 4,
 "nbformat_minor": 2
}
